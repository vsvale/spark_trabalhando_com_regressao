{
 "cells": [
  {
   "cell_type": "code",
   "execution_count": 5,
   "metadata": {},
   "outputs": [],
   "source": [
    "from pyspark.sql import SparkSession\n",
    "from pyspark.sql.functions import col, count, when, isnan, isnull, lit\n",
    "from wget import download"
   ]
  },
  {
   "cell_type": "code",
   "execution_count": 6,
   "metadata": {},
   "outputs": [
    {
     "name": "stdout",
     "output_type": "stream",
     "text": [
      "22/07/06 14:03:28 WARN Utils: Your hostname, PANZER resolves to a loopback address: 127.0.1.1; using 172.26.9.115 instead (on interface eth0)\n",
      "22/07/06 14:03:28 WARN Utils: Set SPARK_LOCAL_IP if you need to bind to another address\n"
     ]
    },
    {
     "name": "stderr",
     "output_type": "stream",
     "text": [
      "Setting default log level to \"WARN\".\n",
      "To adjust logging level use sc.setLogLevel(newLevel). For SparkR, use setLogLevel(newLevel).\n"
     ]
    },
    {
     "name": "stdout",
     "output_type": "stream",
     "text": [
      "22/07/06 14:03:29 WARN NativeCodeLoader: Unable to load native-hadoop library for your platform... using builtin-java classes where applicable\n"
     ]
    }
   ],
   "source": [
    "spark = SparkSession.builder\\\n",
    "    .master('local[*]')\\\n",
    "    .getOrCreate()\n",
    "\n",
    "spark.sparkContext.setLogLevel(\"ERROR\")\n",
    "sc = spark.sparkContext\n"
   ]
  },
  {
   "cell_type": "code",
   "execution_count": 7,
   "metadata": {},
   "outputs": [
    {
     "data": {
      "text/plain": [
       "'aula01.zip'"
      ]
     },
     "execution_count": 7,
     "metadata": {},
     "output_type": "execute_result"
    }
   ],
   "source": [
    "download(\"https://caelum-online-public.s3.amazonaws.com/2277-spark/01/aula01.zip\")"
   ]
  },
  {
   "cell_type": "code",
   "execution_count": 8,
   "metadata": {},
   "outputs": [],
   "source": [
    "import zipfile\n",
    "import os\n",
    "\n",
    "with zipfile.ZipFile('aula01.zip', 'r') as zip_ref:\n",
    "    zip_ref.extractall('.')\n",
    "os.remove('aula01.zip')"
   ]
  },
  {
   "cell_type": "code",
   "execution_count": 9,
   "metadata": {},
   "outputs": [
    {
     "name": "stderr",
     "output_type": "stream",
     "text": [
      "                                                                                \r"
     ]
    }
   ],
   "source": [
    "imoveis = spark.read.json(\"./aula01/imoveis.json\")"
   ]
  },
  {
   "cell_type": "code",
   "execution_count": 10,
   "metadata": {},
   "outputs": [
    {
     "name": "stdout",
     "output_type": "stream",
     "text": [
      "+--------------------------+-----------------------------------------------------------------------------------------------------------------------------------------------------------------+\n",
      "|ident                     |listing                                                                                                                                                          |\n",
      "+--------------------------+-----------------------------------------------------------------------------------------------------------------------------------------------------------------+\n",
      "|{775564-BOJSMVON, Website}|{{Rio de Janeiro, {-22.909429, -43.413557}, Taquara, Zona Oeste}, {0, 0, 0, 1, 0, 62, 0, 0, 62}, {45000, {150, 0}}, {Outros, Residencial}}                       |\n",
      "|{660895-AUENKNYY, Website}|{{Rio de Janeiro, {-22.869698, -43.509141}, Santíssimo, Zona Oeste}, {1, 2, 0, 1, 0, 0, 0, 0, 44}, {45000, {120, 0}}, {Apartamento, Residencial}}                |\n",
      "|{751522-JESYFEQL, Website}|{{Rio de Janeiro, {-22.986927, -43.646786}, Pedra de Guaratiba, Zona Oeste}, {0, 0, 0, 0, 0, 132, 0, 0, 132}, {50000, {100, 0}}, {Outros, Residencial}}          |\n",
      "|{714052-GAAEWYKS, Website}|{{Rio de Janeiro, {-22.881977, -43.330818}, Cascadura, Zona Norte}, {1, 0, 0, 0, 0, 32, 3, 0, 32}, {45000, {468, 346}}, {Outros, Comercial}}                     |\n",
      "|{568886-ZIBFOMCC, Website}|{{Rio de Janeiro, {-23.027653, -43.480742}, Recreio dos Bandeirantes, Zona Oeste}, {2, 3, 3, 1, 1, 0, 2, 4, 60}, {50000, {400, 120}}, {Apartamento, Residencial}}|\n",
      "|{526755-OBLTYTEN, Website}|{{Rio de Janeiro, {-22.966059, -43.571183}, Guaratiba, Zona Oeste}, {0, 0, 0, 0, 0, 200, 0, 0, 200}, {50000, {0, null}}, {Outros, Residencial}}                  |\n",
      "|{593569-CJLMNFGW, Website}|{{Rio de Janeiro, {-22.939028, -43.3453}, Freguesia (Jacarepaguá), Zona Oeste}, {1, 0, 0, 0, 0, 25, 2, 0, 25}, {50000, {801, 211}}, {Outros, Comercial}}         |\n",
      "|{989181-RYJOLMCU, Website}|{{Rio de Janeiro, {-22.841509, -43.278855}, Penha, Zona Norte}, {1, 0, 0, 0, 0, 23, 0, 0, 23}, {50000, {230, null}}, {Outros, Comercial}}                        |\n",
      "|{145372-EZKAKSWM, Website}|{{Rio de Janeiro, {-22.835609, -43.392253}, Ricardo de Albuquerque, Zona Norte}, {0, 0, 0, 0, 0, 60, 0, 0, 60}, {45000, {null, null}}, {Outros, Comercial}}      |\n",
      "|{792086-NWNQTDYL, Website}|{{Rio de Janeiro, {-22.885306, -43.253044}, Jacarezinho, Zona Norte}, {1, 1, 0, 1, 0, 35, 0, 0, 33}, {45336, {0, 0}}, {Apartamento, Residencial}}                |\n",
      "|{339622-MNZGLKTZ, Website}|{{Rio de Janeiro, {-22.990425, -43.635505}, Guaratiba, Zona Oeste}, {0, 0, 0, 0, 0, 120, 0, 0, 120}, {45000, {0, 0}}, {Outros, Residencial}}                     |\n",
      "|{952338-SVULQMXR, Website}|{{Rio de Janeiro, {-22.877982, -43.651456}, Santa Cruz, Zona Oeste}, {0, 0, 0, 0, 0, 468, 0, 0, 468}, {45000, {0, 0}}, {Outros, Residencial}}                    |\n",
      "|{570439-LDICQOXZ, Website}|{{Rio de Janeiro, {-22.998183, -43.504337}, Vargem Grande, Zona Oeste}, {0, 0, 0, 0, 0, 180, 1, 0, 180}, {50000, {0, 0}}, {Outros, Residencial}}                 |\n",
      "|{684023-YTBNKLLO, Website}|{{Rio de Janeiro, {-22.843794, -43.512464}, Bangu, Zona Oeste}, {0, 0, 0, 0, 0, 128, 0, 0, 128}, {50000, {0, 0}}, {Outros, Residencial}}                         |\n",
      "|{629412-VKUMMAVR, Website}|{{Rio de Janeiro, {-22.91077, -43.37182}, Tanque, Zona Oeste}, {0, 0, 0, 0, 0, 82, 1, 0, 82}, {45000, {300, 0}}, {Outros, Residencial}}                          |\n",
      "|{041590-HMJIRKDX, Website}|{{Rio de Janeiro, {-22.910099, -43.17797}, Centro, Zona Central}, {0, 0, 0, 1, 0, 5, 0, 0, 5}, {45000, {0, 0}}, {Outros, Comercial}}                             |\n",
      "|{870098-XTRYJAGY, Website}|{{Rio de Janeiro, {-22.867219, -43.335067}, Madureira, Zona Norte}, {1, 0, 0, 0, 0, 350, 0, 0, 350}, {50000, {0, 1600}}, {Outros, Comercial}}                    |\n",
      "|{951104-MACIAPIS, Website}|{{Rio de Janeiro, {-22.897014, -43.201575}, Santo Cristo, Zona Central}, {2, 3, 20, 1, 1, 0, 20, 19, 70}, {45000, {350, 120}}, {Apartamento, Residencial}}       |\n",
      "|{375665-GHMFEZXX, Website}|{{Rio de Janeiro, {-22.902419, -43.20952}, Santo Cristo, Zona Central}, {2, 3, 20, 1, 1, 0, 20, 19, 70}, {50000, {350, 120}}, {Apartamento, Residencial}}        |\n",
      "|{441711-LRTWHRUA, Website}|{{Rio de Janeiro, {-22.989852, -43.623097}, Pedra de Guaratiba, Zona Oeste}, {1, 1, 0, 0, 0, 45, 2, 0, 37}, {50000, {0, 0}}, {Apartamento, Residencial}}         |\n",
      "+--------------------------+-----------------------------------------------------------------------------------------------------------------------------------------------------------------+\n",
      "only showing top 20 rows\n",
      "\n"
     ]
    }
   ],
   "source": [
    "imoveis.show(truncate=False)"
   ]
  },
  {
   "cell_type": "code",
   "execution_count": 11,
   "metadata": {},
   "outputs": [
    {
     "data": {
      "text/plain": [
       "73615"
      ]
     },
     "execution_count": 11,
     "metadata": {},
     "output_type": "execute_result"
    }
   ],
   "source": [
    "imoveis.count()"
   ]
  },
  {
   "cell_type": "markdown",
   "metadata": {},
   "source": [
    "Features"
   ]
  },
  {
   "cell_type": "code",
   "execution_count": 12,
   "metadata": {},
   "outputs": [
    {
     "name": "stdout",
     "output_type": "stream",
     "text": [
      "root\n",
      " |-- ident: struct (nullable = true)\n",
      " |    |-- customerID: string (nullable = true)\n",
      " |    |-- source: string (nullable = true)\n",
      " |-- listing: struct (nullable = true)\n",
      " |    |-- address: struct (nullable = true)\n",
      " |    |    |-- city: string (nullable = true)\n",
      " |    |    |-- location: struct (nullable = true)\n",
      " |    |    |    |-- lat: double (nullable = true)\n",
      " |    |    |    |-- lon: double (nullable = true)\n",
      " |    |    |-- neighborhood: string (nullable = true)\n",
      " |    |    |-- zone: string (nullable = true)\n",
      " |    |-- features: struct (nullable = true)\n",
      " |    |    |-- bathrooms: long (nullable = true)\n",
      " |    |    |-- bedrooms: long (nullable = true)\n",
      " |    |    |-- floors: long (nullable = true)\n",
      " |    |    |-- parkingSpaces: long (nullable = true)\n",
      " |    |    |-- suites: long (nullable = true)\n",
      " |    |    |-- totalAreas: string (nullable = true)\n",
      " |    |    |-- unitFloor: long (nullable = true)\n",
      " |    |    |-- unitsOnTheFloor: long (nullable = true)\n",
      " |    |    |-- usableAreas: string (nullable = true)\n",
      " |    |-- prices: struct (nullable = true)\n",
      " |    |    |-- price: string (nullable = true)\n",
      " |    |    |-- tax: struct (nullable = true)\n",
      " |    |    |    |-- condo: string (nullable = true)\n",
      " |    |    |    |-- iptu: string (nullable = true)\n",
      " |    |-- types: struct (nullable = true)\n",
      " |    |    |-- unit: string (nullable = true)\n",
      " |    |    |-- usage: string (nullable = true)\n",
      "\n"
     ]
    }
   ],
   "source": [
    "imoveis.printSchema()"
   ]
  },
  {
   "cell_type": "code",
   "execution_count": 13,
   "metadata": {},
   "outputs": [
    {
     "name": "stdout",
     "output_type": "stream",
     "text": [
      "+---------------+--------------------------------------------------------------------------+-------------------------------+-----------------+--------------------------+\n",
      "|customerID     |address                                                                   |features                       |prices           |types                     |\n",
      "+---------------+--------------------------------------------------------------------------+-------------------------------+-----------------+--------------------------+\n",
      "|775564-BOJSMVON|{Rio de Janeiro, {-22.909429, -43.413557}, Taquara, Zona Oeste}           |{0, 0, 0, 1, 0, 62, 0, 0, 62}  |{45000, {150, 0}}|{Outros, Residencial}     |\n",
      "|660895-AUENKNYY|{Rio de Janeiro, {-22.869698, -43.509141}, Santíssimo, Zona Oeste}        |{1, 2, 0, 1, 0, 0, 0, 0, 44}   |{45000, {120, 0}}|{Apartamento, Residencial}|\n",
      "|751522-JESYFEQL|{Rio de Janeiro, {-22.986927, -43.646786}, Pedra de Guaratiba, Zona Oeste}|{0, 0, 0, 0, 0, 132, 0, 0, 132}|{50000, {100, 0}}|{Outros, Residencial}     |\n",
      "+---------------+--------------------------------------------------------------------------+-------------------------------+-----------------+--------------------------+\n",
      "only showing top 3 rows\n",
      "\n"
     ]
    }
   ],
   "source": [
    "imoveis.select(\n",
    "    'ident.customerID','listing.*'\n",
    ").show(3,truncate=False)"
   ]
  },
  {
   "cell_type": "code",
   "execution_count": 14,
   "metadata": {},
   "outputs": [
    {
     "name": "stdout",
     "output_type": "stream",
     "text": [
      "+---------------+-----------+-----------+---------+--------+------+-------------+------+----------+---------+---------------+-----------+--------------+------------------------+------------------------+----------+-----+-----+----+\n",
      "|customerID     |unit       |usage      |bathrooms|bedrooms|floors|parkingSpaces|suites|totalAreas|unitFloor|unitsOnTheFloor|usableAreas|city          |location                |neighborhood            |zone      |price|condo|iptu|\n",
      "+---------------+-----------+-----------+---------+--------+------+-------------+------+----------+---------+---------------+-----------+--------------+------------------------+------------------------+----------+-----+-----+----+\n",
      "|775564-BOJSMVON|Outros     |Residencial|0        |0       |0     |1            |0     |62        |0        |0              |62         |Rio de Janeiro|{-22.909429, -43.413557}|Taquara                 |Zona Oeste|45000|150  |0   |\n",
      "|660895-AUENKNYY|Apartamento|Residencial|1        |2       |0     |1            |0     |0         |0        |0              |44         |Rio de Janeiro|{-22.869698, -43.509141}|Santíssimo              |Zona Oeste|45000|120  |0   |\n",
      "|751522-JESYFEQL|Outros     |Residencial|0        |0       |0     |0            |0     |132       |0        |0              |132        |Rio de Janeiro|{-22.986927, -43.646786}|Pedra de Guaratiba      |Zona Oeste|50000|100  |0   |\n",
      "|714052-GAAEWYKS|Outros     |Comercial  |1        |0       |0     |0            |0     |32        |3        |0              |32         |Rio de Janeiro|{-22.881977, -43.330818}|Cascadura               |Zona Norte|45000|468  |346 |\n",
      "|568886-ZIBFOMCC|Apartamento|Residencial|2        |3       |3     |1            |1     |0         |2        |4              |60         |Rio de Janeiro|{-23.027653, -43.480742}|Recreio dos Bandeirantes|Zona Oeste|50000|400  |120 |\n",
      "+---------------+-----------+-----------+---------+--------+------+-------------+------+----------+---------+---------------+-----------+--------------+------------------------+------------------------+----------+-----+-----+----+\n",
      "only showing top 5 rows\n",
      "\n"
     ]
    }
   ],
   "source": [
    "imoveis.select(\n",
    "    'ident.customerID',\n",
    "    \"listing.types.*\",\n",
    "    \"listing.features.*\",\n",
    "    \"listing.address.*\",\n",
    "    \"listing.prices.price\",\n",
    "    \"listing.prices.tax.*\"\n",
    ").show(5,truncate=False)"
   ]
  },
  {
   "cell_type": "code",
   "execution_count": 15,
   "metadata": {},
   "outputs": [
    {
     "name": "stdout",
     "output_type": "stream",
     "text": [
      "+---------------+-----------+-----------+---------+--------+------+-------------+------+---------+---------------+-----------+------------------------+----------+-----+-----+----+\n",
      "|customerID     |unit       |usage      |bathrooms|bedrooms|floors|parkingSpaces|suites|unitFloor|unitsOnTheFloor|usableAreas|neighborhood            |zone      |price|condo|iptu|\n",
      "+---------------+-----------+-----------+---------+--------+------+-------------+------+---------+---------------+-----------+------------------------+----------+-----+-----+----+\n",
      "|775564-BOJSMVON|Outros     |Residencial|0        |0       |0     |1            |0     |0        |0              |62         |Taquara                 |Zona Oeste|45000|150  |0   |\n",
      "|660895-AUENKNYY|Apartamento|Residencial|1        |2       |0     |1            |0     |0        |0              |44         |Santíssimo              |Zona Oeste|45000|120  |0   |\n",
      "|751522-JESYFEQL|Outros     |Residencial|0        |0       |0     |0            |0     |0        |0              |132        |Pedra de Guaratiba      |Zona Oeste|50000|100  |0   |\n",
      "|714052-GAAEWYKS|Outros     |Comercial  |1        |0       |0     |0            |0     |3        |0              |32         |Cascadura               |Zona Norte|45000|468  |346 |\n",
      "|568886-ZIBFOMCC|Apartamento|Residencial|2        |3       |3     |1            |1     |2        |4              |60         |Recreio dos Bandeirantes|Zona Oeste|50000|400  |120 |\n",
      "+---------------+-----------+-----------+---------+--------+------+-------------+------+---------+---------------+-----------+------------------------+----------+-----+-----+----+\n",
      "only showing top 5 rows\n",
      "\n"
     ]
    }
   ],
   "source": [
    "(\n",
    "imoveis.select(\n",
    "    'ident.customerID',\n",
    "    \"listing.types.*\",\n",
    "    \"listing.features.*\",\n",
    "    \"listing.address.*\",\n",
    "    \"listing.prices.price\",\n",
    "    \"listing.prices.tax.*\"\n",
    ")\n",
    ".drop('city','location','totalAreas')\n",
    ".show(5,truncate=False)\n",
    ")"
   ]
  },
  {
   "cell_type": "code",
   "execution_count": 16,
   "metadata": {},
   "outputs": [],
   "source": [
    "df = (\n",
    "imoveis.select(\n",
    "    'ident.customerID',\n",
    "    \"listing.types.*\",\n",
    "    \"listing.features.*\",\n",
    "    \"listing.address.*\",\n",
    "    \"listing.prices.price\",\n",
    "    \"listing.prices.tax.*\"\n",
    ")\n",
    ".drop('city','location','totalAreas')\n",
    ")"
   ]
  },
  {
   "cell_type": "markdown",
   "metadata": {},
   "source": [
    "Tratamento"
   ]
  },
  {
   "cell_type": "code",
   "execution_count": 17,
   "metadata": {},
   "outputs": [
    {
     "name": "stdout",
     "output_type": "stream",
     "text": [
      "root\n",
      " |-- customerID: string (nullable = true)\n",
      " |-- unit: string (nullable = true)\n",
      " |-- usage: string (nullable = true)\n",
      " |-- bathrooms: long (nullable = true)\n",
      " |-- bedrooms: long (nullable = true)\n",
      " |-- floors: long (nullable = true)\n",
      " |-- parkingSpaces: long (nullable = true)\n",
      " |-- suites: long (nullable = true)\n",
      " |-- unitFloor: long (nullable = true)\n",
      " |-- unitsOnTheFloor: long (nullable = true)\n",
      " |-- usableAreas: string (nullable = true)\n",
      " |-- neighborhood: string (nullable = true)\n",
      " |-- zone: string (nullable = true)\n",
      " |-- price: string (nullable = true)\n",
      " |-- condo: string (nullable = true)\n",
      " |-- iptu: string (nullable = true)\n",
      "\n"
     ]
    }
   ],
   "source": [
    "df.printSchema()"
   ]
  },
  {
   "cell_type": "code",
   "execution_count": 18,
   "metadata": {},
   "outputs": [],
   "source": [
    "from pyspark.sql.types import IntegerType,DoubleType"
   ]
  },
  {
   "cell_type": "code",
   "execution_count": 19,
   "metadata": {},
   "outputs": [
    {
     "name": "stdout",
     "output_type": "stream",
     "text": [
      "root\n",
      " |-- customerID: string (nullable = true)\n",
      " |-- unit: string (nullable = true)\n",
      " |-- usage: string (nullable = true)\n",
      " |-- bathrooms: long (nullable = true)\n",
      " |-- bedrooms: long (nullable = true)\n",
      " |-- floors: long (nullable = true)\n",
      " |-- parkingSpaces: long (nullable = true)\n",
      " |-- suites: long (nullable = true)\n",
      " |-- unitFloor: long (nullable = true)\n",
      " |-- unitsOnTheFloor: long (nullable = true)\n",
      " |-- usableAreas: integer (nullable = true)\n",
      " |-- neighborhood: string (nullable = true)\n",
      " |-- zone: string (nullable = true)\n",
      " |-- price: double (nullable = true)\n",
      " |-- condo: double (nullable = true)\n",
      " |-- iptu: double (nullable = true)\n",
      "\n"
     ]
    }
   ],
   "source": [
    "(df\n",
    "    .withColumn('usableAreas',col('usableAreas').cast(IntegerType()))\n",
    "    .withColumn('price',col('price').cast(DoubleType()))\n",
    "    .withColumn('condo',col('condo').cast(DoubleType()))\n",
    "    .withColumn('iptu',col('iptu').cast(DoubleType()))\n",
    ").printSchema()"
   ]
  },
  {
   "cell_type": "code",
   "execution_count": 20,
   "metadata": {},
   "outputs": [],
   "source": [
    "df =(df\n",
    "    .withColumn('usableAreas',col('usableAreas').cast(IntegerType()))\n",
    "    .withColumn('price',col('price').cast(DoubleType()))\n",
    "    .withColumn('condo',col('condo').cast(DoubleType()))\n",
    "    .withColumn('iptu',col('iptu').cast(DoubleType())))"
   ]
  },
  {
   "cell_type": "code",
   "execution_count": 21,
   "metadata": {},
   "outputs": [
    {
     "name": "stdout",
     "output_type": "stream",
     "text": [
      "+---------------+-----------+-----------+---------+--------+------+-------------+------+---------+---------------+-----------+--------------------+------------+-------+-----+------+\n",
      "|     customerID|       unit|      usage|bathrooms|bedrooms|floors|parkingSpaces|suites|unitFloor|unitsOnTheFloor|usableAreas|        neighborhood|        zone|  price|condo|  iptu|\n",
      "+---------------+-----------+-----------+---------+--------+------+-------------+------+---------+---------------+-----------+--------------------+------------+-------+-----+------+\n",
      "|775564-BOJSMVON|     Outros|Residencial|        0|       0|     0|            1|     0|        0|              0|         62|             Taquara|  Zona Oeste|45000.0|150.0|   0.0|\n",
      "|660895-AUENKNYY|Apartamento|Residencial|        1|       2|     0|            1|     0|        0|              0|         44|          Santíssimo|  Zona Oeste|45000.0|120.0|   0.0|\n",
      "|751522-JESYFEQL|     Outros|Residencial|        0|       0|     0|            0|     0|        0|              0|        132|  Pedra de Guaratiba|  Zona Oeste|50000.0|100.0|   0.0|\n",
      "|714052-GAAEWYKS|     Outros|  Comercial|        1|       0|     0|            0|     0|        3|              0|         32|           Cascadura|  Zona Norte|45000.0|468.0| 346.0|\n",
      "|568886-ZIBFOMCC|Apartamento|Residencial|        2|       3|     3|            1|     1|        2|              4|         60|Recreio dos Bande...|  Zona Oeste|50000.0|400.0| 120.0|\n",
      "|526755-OBLTYTEN|     Outros|Residencial|        0|       0|     0|            0|     0|        0|              0|        200|           Guaratiba|  Zona Oeste|50000.0|  0.0|  null|\n",
      "|593569-CJLMNFGW|     Outros|  Comercial|        1|       0|     0|            0|     0|        2|              0|         25|Freguesia (Jacare...|  Zona Oeste|50000.0|801.0| 211.0|\n",
      "|989181-RYJOLMCU|     Outros|  Comercial|        1|       0|     0|            0|     0|        0|              0|         23|               Penha|  Zona Norte|50000.0|230.0|  null|\n",
      "|145372-EZKAKSWM|     Outros|  Comercial|        0|       0|     0|            0|     0|        0|              0|         60|Ricardo de Albuqu...|  Zona Norte|45000.0| null|  null|\n",
      "|792086-NWNQTDYL|Apartamento|Residencial|        1|       1|     0|            1|     0|        0|              0|         33|         Jacarezinho|  Zona Norte|45336.0|  0.0|   0.0|\n",
      "|339622-MNZGLKTZ|     Outros|Residencial|        0|       0|     0|            0|     0|        0|              0|        120|           Guaratiba|  Zona Oeste|45000.0|  0.0|   0.0|\n",
      "|952338-SVULQMXR|     Outros|Residencial|        0|       0|     0|            0|     0|        0|              0|        468|          Santa Cruz|  Zona Oeste|45000.0|  0.0|   0.0|\n",
      "|570439-LDICQOXZ|     Outros|Residencial|        0|       0|     0|            0|     0|        1|              0|        180|       Vargem Grande|  Zona Oeste|50000.0|  0.0|   0.0|\n",
      "|684023-YTBNKLLO|     Outros|Residencial|        0|       0|     0|            0|     0|        0|              0|        128|               Bangu|  Zona Oeste|50000.0|  0.0|   0.0|\n",
      "|629412-VKUMMAVR|     Outros|Residencial|        0|       0|     0|            0|     0|        1|              0|         82|              Tanque|  Zona Oeste|45000.0|300.0|   0.0|\n",
      "|041590-HMJIRKDX|     Outros|  Comercial|        0|       0|     0|            1|     0|        0|              0|          5|              Centro|Zona Central|45000.0|  0.0|   0.0|\n",
      "|870098-XTRYJAGY|     Outros|  Comercial|        1|       0|     0|            0|     0|        0|              0|        350|           Madureira|  Zona Norte|50000.0|  0.0|1600.0|\n",
      "|951104-MACIAPIS|Apartamento|Residencial|        2|       3|    20|            1|     1|       20|             19|         70|        Santo Cristo|Zona Central|45000.0|350.0| 120.0|\n",
      "|375665-GHMFEZXX|Apartamento|Residencial|        2|       3|    20|            1|     1|       20|             19|         70|        Santo Cristo|Zona Central|50000.0|350.0| 120.0|\n",
      "|441711-LRTWHRUA|Apartamento|Residencial|        1|       1|     0|            0|     0|        2|              0|         37|  Pedra de Guaratiba|  Zona Oeste|50000.0|  0.0|   0.0|\n",
      "+---------------+-----------+-----------+---------+--------+------+-------------+------+---------+---------------+-----------+--------------------+------------+-------+-----+------+\n",
      "only showing top 20 rows\n",
      "\n"
     ]
    }
   ],
   "source": [
    "df.show()"
   ]
  },
  {
   "cell_type": "code",
   "execution_count": 22,
   "metadata": {},
   "outputs": [
    {
     "name": "stdout",
     "output_type": "stream",
     "text": [
      "+-----------+-----+\n",
      "|      usage|count|\n",
      "+-----------+-----+\n",
      "|  Comercial| 4019|\n",
      "|Residencial|69596|\n",
      "+-----------+-----+\n",
      "\n"
     ]
    }
   ],
   "source": [
    "df.select('usage').groupBy('usage').count().show()"
   ]
  },
  {
   "cell_type": "code",
   "execution_count": 23,
   "metadata": {},
   "outputs": [
    {
     "name": "stdout",
     "output_type": "stream",
     "text": [
      "+---------------+-----------+-----------+---------+--------+------+-------------+------+---------+---------------+-----------+--------------------+------------+-------+-----+-----+\n",
      "|     customerID|       unit|      usage|bathrooms|bedrooms|floors|parkingSpaces|suites|unitFloor|unitsOnTheFloor|usableAreas|        neighborhood|        zone|  price|condo| iptu|\n",
      "+---------------+-----------+-----------+---------+--------+------+-------------+------+---------+---------------+-----------+--------------------+------------+-------+-----+-----+\n",
      "|775564-BOJSMVON|     Outros|Residencial|        0|       0|     0|            1|     0|        0|              0|         62|             Taquara|  Zona Oeste|45000.0|150.0|  0.0|\n",
      "|660895-AUENKNYY|Apartamento|Residencial|        1|       2|     0|            1|     0|        0|              0|         44|          Santíssimo|  Zona Oeste|45000.0|120.0|  0.0|\n",
      "|751522-JESYFEQL|     Outros|Residencial|        0|       0|     0|            0|     0|        0|              0|        132|  Pedra de Guaratiba|  Zona Oeste|50000.0|100.0|  0.0|\n",
      "|568886-ZIBFOMCC|Apartamento|Residencial|        2|       3|     3|            1|     1|        2|              4|         60|Recreio dos Bande...|  Zona Oeste|50000.0|400.0|120.0|\n",
      "|526755-OBLTYTEN|     Outros|Residencial|        0|       0|     0|            0|     0|        0|              0|        200|           Guaratiba|  Zona Oeste|50000.0|  0.0| null|\n",
      "|792086-NWNQTDYL|Apartamento|Residencial|        1|       1|     0|            1|     0|        0|              0|         33|         Jacarezinho|  Zona Norte|45336.0|  0.0|  0.0|\n",
      "|339622-MNZGLKTZ|     Outros|Residencial|        0|       0|     0|            0|     0|        0|              0|        120|           Guaratiba|  Zona Oeste|45000.0|  0.0|  0.0|\n",
      "|952338-SVULQMXR|     Outros|Residencial|        0|       0|     0|            0|     0|        0|              0|        468|          Santa Cruz|  Zona Oeste|45000.0|  0.0|  0.0|\n",
      "|570439-LDICQOXZ|     Outros|Residencial|        0|       0|     0|            0|     0|        1|              0|        180|       Vargem Grande|  Zona Oeste|50000.0|  0.0|  0.0|\n",
      "|684023-YTBNKLLO|     Outros|Residencial|        0|       0|     0|            0|     0|        0|              0|        128|               Bangu|  Zona Oeste|50000.0|  0.0|  0.0|\n",
      "|629412-VKUMMAVR|     Outros|Residencial|        0|       0|     0|            0|     0|        1|              0|         82|              Tanque|  Zona Oeste|45000.0|300.0|  0.0|\n",
      "|951104-MACIAPIS|Apartamento|Residencial|        2|       3|    20|            1|     1|       20|             19|         70|        Santo Cristo|Zona Central|45000.0|350.0|120.0|\n",
      "|375665-GHMFEZXX|Apartamento|Residencial|        2|       3|    20|            1|     1|       20|             19|         70|        Santo Cristo|Zona Central|50000.0|350.0|120.0|\n",
      "|441711-LRTWHRUA|Apartamento|Residencial|        1|       1|     0|            0|     0|        2|              0|         37|  Pedra de Guaratiba|  Zona Oeste|50000.0|  0.0|  0.0|\n",
      "|221946-ENAQETGD|     Outros|Residencial|        0|       0|     0|            0|     0|        0|              0|        120|           Guaratiba|  Zona Oeste|45020.0|  0.0|  0.0|\n",
      "|023787-PTASXXTL|     Outros|Residencial|        0|       0|     0|            0|     0|        0|              0|        120|           Guaratiba|  Zona Oeste|45040.0|  0.0|  0.0|\n",
      "|385687-SWOBLUWG|     Outros|Residencial|        0|       0|     0|            0|     0|        0|              0|        150|          Santa Cruz|  Zona Oeste|45000.0|  0.0|  0.0|\n",
      "|037953-VZOABKON|Apartamento|Residencial|        1|       2|     0|            1|     0|        0|              0|         30|         Coelho Neto|  Zona Norte|45000.0| null|  0.0|\n",
      "|913561-GIAMXOYU|     Outros|Residencial|        0|       0|     0|            0|     0|        0|              0|        128|           Guaratiba|  Zona Oeste|45000.0|  0.0|  0.0|\n",
      "|511928-EYKXPKBU|     Outros|Residencial|        0|       0|     0|            0|     0|        0|              0|        120|           Guaratiba|  Zona Oeste|45070.0|  0.0|  0.0|\n",
      "+---------------+-----------+-----------+---------+--------+------+-------------+------+---------+---------------+-----------+--------------------+------------+-------+-----+-----+\n",
      "only showing top 20 rows\n",
      "\n"
     ]
    }
   ],
   "source": [
    "df.where(col('usage')=='Residencial').show()"
   ]
  },
  {
   "cell_type": "code",
   "execution_count": 24,
   "metadata": {},
   "outputs": [],
   "source": [
    "df = df.where(col('usage')=='Residencial')"
   ]
  },
  {
   "cell_type": "code",
   "execution_count": 25,
   "metadata": {},
   "outputs": [
    {
     "name": "stdout",
     "output_type": "stream",
     "text": [
      "+-----------+-----+\n",
      "|      usage|count|\n",
      "+-----------+-----+\n",
      "|Residencial|69596|\n",
      "+-----------+-----+\n",
      "\n"
     ]
    },
    {
     "name": "stderr",
     "output_type": "stream",
     "text": [
      "                                                                                \r"
     ]
    }
   ],
   "source": [
    "df.select('usage').groupBy('usage').count().show()"
   ]
  },
  {
   "cell_type": "code",
   "execution_count": 26,
   "metadata": {},
   "outputs": [
    {
     "name": "stdout",
     "output_type": "stream",
     "text": [
      "+-----------+-----+\n",
      "|       unit|count|\n",
      "+-----------+-----+\n",
      "|     Outros| 1190|\n",
      "|Apartamento|59106|\n",
      "|       Casa| 9300|\n",
      "+-----------+-----+\n",
      "\n"
     ]
    }
   ],
   "source": [
    "df.select('unit').groupBy('unit').count().show()"
   ]
  },
  {
   "cell_type": "code",
   "execution_count": 27,
   "metadata": {},
   "outputs": [
    {
     "name": "stdout",
     "output_type": "stream",
     "text": [
      "+------------+-----+\n",
      "|        zone|count|\n",
      "+------------+-----+\n",
      "|  Zona Norte|14379|\n",
      "|  Zona Oeste|35523|\n",
      "|Zona Central| 1002|\n",
      "|    Zona Sul|18535|\n",
      "|            |  157|\n",
      "+------------+-----+\n",
      "\n"
     ]
    },
    {
     "name": "stderr",
     "output_type": "stream",
     "text": [
      "                                                                                \r"
     ]
    }
   ],
   "source": [
    "df.select('zone').groupBy('zone').count().show()"
   ]
  },
  {
   "cell_type": "markdown",
   "metadata": {},
   "source": [
    "Missing data"
   ]
  },
  {
   "cell_type": "code",
   "execution_count": 28,
   "metadata": {},
   "outputs": [
    {
     "name": "stderr",
     "output_type": "stream",
     "text": [
      "[Stage 22:===================================================>      (8 + 1) / 9]\r"
     ]
    },
    {
     "name": "stdout",
     "output_type": "stream",
     "text": [
      "+----------+----+-----+---------+--------+------+-------------+------+---------+---------------+-----------+------------+----+-----+-----+----+\n",
      "|customerID|unit|usage|bathrooms|bedrooms|floors|parkingSpaces|suites|unitFloor|unitsOnTheFloor|usableAreas|neighborhood|zone|price|condo|iptu|\n",
      "+----------+----+-----+---------+--------+------+-------------+------+---------+---------------+-----------+------------+----+-----+-----+----+\n",
      "|         0|   0|    0|        0|       0|     0|            0|     0|        0|              0|          0|           0|   0|    0| 6061|8726|\n",
      "+----------+----+-----+---------+--------+------+-------------+------+---------+---------------+-----------+------------+----+-----+-----+----+\n",
      "\n"
     ]
    },
    {
     "name": "stderr",
     "output_type": "stream",
     "text": [
      "                                                                                \r"
     ]
    }
   ],
   "source": [
    "df.select([count(when(isnan(c) | isnull(c),True)).alias(c) for c in df.columns]).show()"
   ]
  },
  {
   "cell_type": "code",
   "execution_count": 29,
   "metadata": {},
   "outputs": [],
   "source": [
    "df = df.na.fill(0)"
   ]
  },
  {
   "cell_type": "code",
   "execution_count": 30,
   "metadata": {},
   "outputs": [
    {
     "name": "stderr",
     "output_type": "stream",
     "text": [
      "[Stage 25:===================================================>      (8 + 1) / 9]\r"
     ]
    },
    {
     "name": "stdout",
     "output_type": "stream",
     "text": [
      "+----------+----+-----+---------+--------+------+-------------+------+---------+---------------+-----------+------------+----+-----+-----+----+\n",
      "|customerID|unit|usage|bathrooms|bedrooms|floors|parkingSpaces|suites|unitFloor|unitsOnTheFloor|usableAreas|neighborhood|zone|price|condo|iptu|\n",
      "+----------+----+-----+---------+--------+------+-------------+------+---------+---------------+-----------+------------+----+-----+-----+----+\n",
      "|         0|   0|    0|        0|       0|     0|            0|     0|        0|              0|          0|           0|   0|    0|    0|   0|\n",
      "+----------+----+-----+---------+--------+------+-------------+------+---------+---------------+-----------+------------+----+-----+-----+----+\n",
      "\n"
     ]
    },
    {
     "name": "stderr",
     "output_type": "stream",
     "text": [
      "                                                                                \r"
     ]
    }
   ],
   "source": [
    "df.select([count(when(isnan(c) | isnull(c),True)).alias(c) for c in df.columns]).show()"
   ]
  },
  {
   "cell_type": "code",
   "execution_count": 31,
   "metadata": {},
   "outputs": [],
   "source": [
    "df = df.filter(col('zone')!='')"
   ]
  },
  {
   "cell_type": "code",
   "execution_count": 32,
   "metadata": {},
   "outputs": [
    {
     "name": "stdout",
     "output_type": "stream",
     "text": [
      "+------------+-----+\n",
      "|        zone|count|\n",
      "+------------+-----+\n",
      "|  Zona Norte|14379|\n",
      "|  Zona Oeste|35523|\n",
      "|Zona Central| 1002|\n",
      "|    Zona Sul|18535|\n",
      "+------------+-----+\n",
      "\n"
     ]
    },
    {
     "name": "stderr",
     "output_type": "stream",
     "text": [
      "                                                                                \r"
     ]
    }
   ],
   "source": [
    "df.select('zone').groupBy('zone').count().show()"
   ]
  },
  {
   "cell_type": "markdown",
   "metadata": {},
   "source": [
    "Linear Regression"
   ]
  },
  {
   "cell_type": "code",
   "execution_count": 33,
   "metadata": {},
   "outputs": [
    {
     "name": "stdout",
     "output_type": "stream",
     "text": [
      "+---------------+-----------+-----------+---------+--------+------+-------------+------+---------+---------------+-----------+--------------------+------------+-------+-----+-----+\n",
      "|     customerID|       unit|      usage|bathrooms|bedrooms|floors|parkingSpaces|suites|unitFloor|unitsOnTheFloor|usableAreas|        neighborhood|        zone|  price|condo| iptu|\n",
      "+---------------+-----------+-----------+---------+--------+------+-------------+------+---------+---------------+-----------+--------------------+------------+-------+-----+-----+\n",
      "|775564-BOJSMVON|     Outros|Residencial|        0|       0|     0|            1|     0|        0|              0|         62|             Taquara|  Zona Oeste|45000.0|150.0|  0.0|\n",
      "|660895-AUENKNYY|Apartamento|Residencial|        1|       2|     0|            1|     0|        0|              0|         44|          Santíssimo|  Zona Oeste|45000.0|120.0|  0.0|\n",
      "|751522-JESYFEQL|     Outros|Residencial|        0|       0|     0|            0|     0|        0|              0|        132|  Pedra de Guaratiba|  Zona Oeste|50000.0|100.0|  0.0|\n",
      "|568886-ZIBFOMCC|Apartamento|Residencial|        2|       3|     3|            1|     1|        2|              4|         60|Recreio dos Bande...|  Zona Oeste|50000.0|400.0|120.0|\n",
      "|526755-OBLTYTEN|     Outros|Residencial|        0|       0|     0|            0|     0|        0|              0|        200|           Guaratiba|  Zona Oeste|50000.0|  0.0|  0.0|\n",
      "|792086-NWNQTDYL|Apartamento|Residencial|        1|       1|     0|            1|     0|        0|              0|         33|         Jacarezinho|  Zona Norte|45336.0|  0.0|  0.0|\n",
      "|339622-MNZGLKTZ|     Outros|Residencial|        0|       0|     0|            0|     0|        0|              0|        120|           Guaratiba|  Zona Oeste|45000.0|  0.0|  0.0|\n",
      "|952338-SVULQMXR|     Outros|Residencial|        0|       0|     0|            0|     0|        0|              0|        468|          Santa Cruz|  Zona Oeste|45000.0|  0.0|  0.0|\n",
      "|570439-LDICQOXZ|     Outros|Residencial|        0|       0|     0|            0|     0|        1|              0|        180|       Vargem Grande|  Zona Oeste|50000.0|  0.0|  0.0|\n",
      "|684023-YTBNKLLO|     Outros|Residencial|        0|       0|     0|            0|     0|        0|              0|        128|               Bangu|  Zona Oeste|50000.0|  0.0|  0.0|\n",
      "|629412-VKUMMAVR|     Outros|Residencial|        0|       0|     0|            0|     0|        1|              0|         82|              Tanque|  Zona Oeste|45000.0|300.0|  0.0|\n",
      "|951104-MACIAPIS|Apartamento|Residencial|        2|       3|    20|            1|     1|       20|             19|         70|        Santo Cristo|Zona Central|45000.0|350.0|120.0|\n",
      "|375665-GHMFEZXX|Apartamento|Residencial|        2|       3|    20|            1|     1|       20|             19|         70|        Santo Cristo|Zona Central|50000.0|350.0|120.0|\n",
      "|441711-LRTWHRUA|Apartamento|Residencial|        1|       1|     0|            0|     0|        2|              0|         37|  Pedra de Guaratiba|  Zona Oeste|50000.0|  0.0|  0.0|\n",
      "|221946-ENAQETGD|     Outros|Residencial|        0|       0|     0|            0|     0|        0|              0|        120|           Guaratiba|  Zona Oeste|45020.0|  0.0|  0.0|\n",
      "|023787-PTASXXTL|     Outros|Residencial|        0|       0|     0|            0|     0|        0|              0|        120|           Guaratiba|  Zona Oeste|45040.0|  0.0|  0.0|\n",
      "|385687-SWOBLUWG|     Outros|Residencial|        0|       0|     0|            0|     0|        0|              0|        150|          Santa Cruz|  Zona Oeste|45000.0|  0.0|  0.0|\n",
      "|037953-VZOABKON|Apartamento|Residencial|        1|       2|     0|            1|     0|        0|              0|         30|         Coelho Neto|  Zona Norte|45000.0|  0.0|  0.0|\n",
      "|913561-GIAMXOYU|     Outros|Residencial|        0|       0|     0|            0|     0|        0|              0|        128|           Guaratiba|  Zona Oeste|45000.0|  0.0|  0.0|\n",
      "|511928-EYKXPKBU|     Outros|Residencial|        0|       0|     0|            0|     0|        0|              0|        120|           Guaratiba|  Zona Oeste|45070.0|  0.0|  0.0|\n",
      "+---------------+-----------+-----------+---------+--------+------+-------------+------+---------+---------------+-----------+--------------------+------------+-------+-----+-----+\n",
      "only showing top 20 rows\n",
      "\n"
     ]
    }
   ],
   "source": [
    "df.show()"
   ]
  },
  {
   "cell_type": "code",
   "execution_count": 34,
   "metadata": {},
   "outputs": [
    {
     "name": "stderr",
     "output_type": "stream",
     "text": [
      "[Stage 40:===================================================>      (8 + 1) / 9]\r"
     ]
    },
    {
     "name": "stdout",
     "output_type": "stream",
     "text": [
      "+---------------+-----------+----+------+\n",
      "|     customerID|Apartamento|Casa|Outros|\n",
      "+---------------+-----------+----+------+\n",
      "|062130-QKYMWGMV|          1|   0|     0|\n",
      "|630945-AEEUPRXI|          0|   1|     0|\n",
      "|994985-OZQNHQKH|          1|   0|     0|\n",
      "|494674-JWXRZIBM|          1|   0|     0|\n",
      "|458844-UJCRFSRI|          1|   0|     0|\n",
      "|155284-BRCDAOIQ|          1|   0|     0|\n",
      "|396742-DUXBHLRU|          1|   0|     0|\n",
      "|916072-ZJXARAXO|          1|   0|     0|\n",
      "|943843-BVTWWHRQ|          1|   0|     0|\n",
      "|193126-MTNIIFQN|          1|   0|     0|\n",
      "|319762-UXTTQYFS|          1|   0|     0|\n",
      "|931151-GZCTKADB|          1|   0|     0|\n",
      "|103840-OFKPFEZJ|          0|   1|     0|\n",
      "|176885-NNKZRQGM|          0|   1|     0|\n",
      "|926638-PBYRAZYR|          1|   0|     0|\n",
      "|744421-IZJWISWB|          1|   0|     0|\n",
      "|530012-TYGLQMER|          1|   0|     0|\n",
      "|209407-GTEUOVKR|          1|   0|     0|\n",
      "|289667-ZPHGFHJH|          1|   0|     0|\n",
      "|859388-EYTPMKER|          1|   0|     0|\n",
      "+---------------+-----------+----+------+\n",
      "only showing top 20 rows\n",
      "\n"
     ]
    },
    {
     "name": "stderr",
     "output_type": "stream",
     "text": [
      "                                                                                \r"
     ]
    }
   ],
   "source": [
    "df.groupBy('customerID').pivot('unit').agg(lit(1)).na.fill(0).show()"
   ]
  },
  {
   "cell_type": "code",
   "execution_count": 35,
   "metadata": {},
   "outputs": [
    {
     "name": "stderr",
     "output_type": "stream",
     "text": [
      "                                                                                \r"
     ]
    }
   ],
   "source": [
    "unit = df.groupBy('customerID').pivot('unit').agg(lit(1)).na.fill(0)"
   ]
  },
  {
   "cell_type": "code",
   "execution_count": 36,
   "metadata": {},
   "outputs": [
    {
     "name": "stderr",
     "output_type": "stream",
     "text": [
      "[Stage 62:===================================================>      (8 + 1) / 9]\r"
     ]
    },
    {
     "name": "stdout",
     "output_type": "stream",
     "text": [
      "+---------------+------------+----------+----------+--------+\n",
      "|     customerID|Zona Central|Zona Norte|Zona Oeste|Zona Sul|\n",
      "+---------------+------------+----------+----------+--------+\n",
      "|336149-TMGGYSKN|           0|         0|         1|       0|\n",
      "|846345-JYHIIHQM|           0|         1|         0|       0|\n",
      "|598128-VUMFFGPB|           0|         0|         0|       1|\n",
      "|368553-OPCVLPHJ|           0|         1|         0|       0|\n",
      "|549743-AXHKZBFK|           0|         0|         1|       0|\n",
      "|812359-OJYBIPJI|           0|         0|         0|       1|\n",
      "|660235-HZGMOQSM|           0|         0|         1|       0|\n",
      "|060113-BUDVVMLJ|           0|         0|         1|       0|\n",
      "|414450-LWZHERNQ|           0|         0|         1|       0|\n",
      "|002985-MNHDTPVG|           0|         0|         1|       0|\n",
      "|849580-WTTBUJKK|           0|         1|         0|       0|\n",
      "|869294-GMGUYRPI|           0|         0|         1|       0|\n",
      "|744421-IZJWISWB|           0|         0|         1|       0|\n",
      "|046476-NNUFIIVG|           0|         0|         1|       0|\n",
      "|626105-DOLRXIDZ|           0|         0|         0|       1|\n",
      "|863519-WWCECOZT|           0|         0|         1|       0|\n",
      "|529272-BGJLJSSR|           0|         0|         1|       0|\n",
      "|521324-MVDCUJPC|           0|         0|         1|       0|\n",
      "|650698-FDRGKLNW|           0|         0|         1|       0|\n",
      "|684301-OTOBDEKJ|           0|         0|         1|       0|\n",
      "+---------------+------------+----------+----------+--------+\n",
      "only showing top 20 rows\n",
      "\n"
     ]
    },
    {
     "name": "stderr",
     "output_type": "stream",
     "text": [
      "                                                                                \r"
     ]
    }
   ],
   "source": [
    "df.groupBy('customerID').pivot('zone').agg(lit(1)).na.fill(0).show()"
   ]
  },
  {
   "cell_type": "code",
   "execution_count": 37,
   "metadata": {},
   "outputs": [],
   "source": [
    "zone = df.groupBy('customerID').pivot('zone').agg(lit(1)).na.fill(0)"
   ]
  },
  {
   "cell_type": "code",
   "execution_count": 38,
   "metadata": {},
   "outputs": [],
   "source": [
    "df = (df\n",
    ".join(unit,'customerID',how='inner')\n",
    ".join(zone,'customerID',how='inner')\n",
    ")"
   ]
  },
  {
   "cell_type": "code",
   "execution_count": 39,
   "metadata": {},
   "outputs": [
    {
     "name": "stderr",
     "output_type": "stream",
     "text": [
      "                                                                                \r"
     ]
    },
    {
     "name": "stdout",
     "output_type": "stream",
     "text": [
      "+---------------+-----------+-----------+---------+--------+------+-------------+------+---------+---------------+-----------+--------------------+------------+-------+-----+-----+-----------+----+------+------------+----------+----------+--------+\n",
      "|     customerID|       unit|      usage|bathrooms|bedrooms|floors|parkingSpaces|suites|unitFloor|unitsOnTheFloor|usableAreas|        neighborhood|        zone|  price|condo| iptu|Apartamento|Casa|Outros|Zona Central|Zona Norte|Zona Oeste|Zona Sul|\n",
      "+---------------+-----------+-----------+---------+--------+------+-------------+------+---------+---------------+-----------+--------------------+------------+-------+-----+-----+-----------+----+------+------------+----------+----------+--------+\n",
      "|775564-BOJSMVON|     Outros|Residencial|        0|       0|     0|            1|     0|        0|              0|         62|             Taquara|  Zona Oeste|45000.0|150.0|  0.0|          0|   0|     1|           0|         0|         1|       0|\n",
      "|660895-AUENKNYY|Apartamento|Residencial|        1|       2|     0|            1|     0|        0|              0|         44|          Santíssimo|  Zona Oeste|45000.0|120.0|  0.0|          1|   0|     0|           0|         0|         1|       0|\n",
      "|751522-JESYFEQL|     Outros|Residencial|        0|       0|     0|            0|     0|        0|              0|        132|  Pedra de Guaratiba|  Zona Oeste|50000.0|100.0|  0.0|          0|   0|     1|           0|         0|         1|       0|\n",
      "|568886-ZIBFOMCC|Apartamento|Residencial|        2|       3|     3|            1|     1|        2|              4|         60|Recreio dos Bande...|  Zona Oeste|50000.0|400.0|120.0|          1|   0|     0|           0|         0|         1|       0|\n",
      "|526755-OBLTYTEN|     Outros|Residencial|        0|       0|     0|            0|     0|        0|              0|        200|           Guaratiba|  Zona Oeste|50000.0|  0.0|  0.0|          0|   0|     1|           0|         0|         1|       0|\n",
      "|792086-NWNQTDYL|Apartamento|Residencial|        1|       1|     0|            1|     0|        0|              0|         33|         Jacarezinho|  Zona Norte|45336.0|  0.0|  0.0|          1|   0|     0|           0|         1|         0|       0|\n",
      "|339622-MNZGLKTZ|     Outros|Residencial|        0|       0|     0|            0|     0|        0|              0|        120|           Guaratiba|  Zona Oeste|45000.0|  0.0|  0.0|          0|   0|     1|           0|         0|         1|       0|\n",
      "|952338-SVULQMXR|     Outros|Residencial|        0|       0|     0|            0|     0|        0|              0|        468|          Santa Cruz|  Zona Oeste|45000.0|  0.0|  0.0|          0|   0|     1|           0|         0|         1|       0|\n",
      "|570439-LDICQOXZ|     Outros|Residencial|        0|       0|     0|            0|     0|        1|              0|        180|       Vargem Grande|  Zona Oeste|50000.0|  0.0|  0.0|          0|   0|     1|           0|         0|         1|       0|\n",
      "|684023-YTBNKLLO|     Outros|Residencial|        0|       0|     0|            0|     0|        0|              0|        128|               Bangu|  Zona Oeste|50000.0|  0.0|  0.0|          0|   0|     1|           0|         0|         1|       0|\n",
      "|629412-VKUMMAVR|     Outros|Residencial|        0|       0|     0|            0|     0|        1|              0|         82|              Tanque|  Zona Oeste|45000.0|300.0|  0.0|          0|   0|     1|           0|         0|         1|       0|\n",
      "|951104-MACIAPIS|Apartamento|Residencial|        2|       3|    20|            1|     1|       20|             19|         70|        Santo Cristo|Zona Central|45000.0|350.0|120.0|          1|   0|     0|           1|         0|         0|       0|\n",
      "|375665-GHMFEZXX|Apartamento|Residencial|        2|       3|    20|            1|     1|       20|             19|         70|        Santo Cristo|Zona Central|50000.0|350.0|120.0|          1|   0|     0|           1|         0|         0|       0|\n",
      "|441711-LRTWHRUA|Apartamento|Residencial|        1|       1|     0|            0|     0|        2|              0|         37|  Pedra de Guaratiba|  Zona Oeste|50000.0|  0.0|  0.0|          1|   0|     0|           0|         0|         1|       0|\n",
      "|221946-ENAQETGD|     Outros|Residencial|        0|       0|     0|            0|     0|        0|              0|        120|           Guaratiba|  Zona Oeste|45020.0|  0.0|  0.0|          0|   0|     1|           0|         0|         1|       0|\n",
      "|023787-PTASXXTL|     Outros|Residencial|        0|       0|     0|            0|     0|        0|              0|        120|           Guaratiba|  Zona Oeste|45040.0|  0.0|  0.0|          0|   0|     1|           0|         0|         1|       0|\n",
      "|385687-SWOBLUWG|     Outros|Residencial|        0|       0|     0|            0|     0|        0|              0|        150|          Santa Cruz|  Zona Oeste|45000.0|  0.0|  0.0|          0|   0|     1|           0|         0|         1|       0|\n",
      "|037953-VZOABKON|Apartamento|Residencial|        1|       2|     0|            1|     0|        0|              0|         30|         Coelho Neto|  Zona Norte|45000.0|  0.0|  0.0|          1|   0|     0|           0|         1|         0|       0|\n",
      "|913561-GIAMXOYU|     Outros|Residencial|        0|       0|     0|            0|     0|        0|              0|        128|           Guaratiba|  Zona Oeste|45000.0|  0.0|  0.0|          0|   0|     1|           0|         0|         1|       0|\n",
      "|511928-EYKXPKBU|     Outros|Residencial|        0|       0|     0|            0|     0|        0|              0|        120|           Guaratiba|  Zona Oeste|45070.0|  0.0|  0.0|          0|   0|     1|           0|         0|         1|       0|\n",
      "+---------------+-----------+-----------+---------+--------+------+-------------+------+---------+---------------+-----------+--------------------+------------+-------+-----+-----+-----------+----+------+------------+----------+----------+--------+\n",
      "only showing top 20 rows\n",
      "\n"
     ]
    }
   ],
   "source": [
    "df.show()"
   ]
  },
  {
   "cell_type": "markdown",
   "metadata": {},
   "source": [
    "VectorAssembler"
   ]
  },
  {
   "cell_type": "code",
   "execution_count": 40,
   "metadata": {},
   "outputs": [],
   "source": [
    "from pyspark.ml.feature import VectorAssembler"
   ]
  },
  {
   "cell_type": "code",
   "execution_count": 41,
   "metadata": {},
   "outputs": [],
   "source": [
    "dataset = df.withColumnRenamed('price','label')"
   ]
  },
  {
   "cell_type": "code",
   "execution_count": 42,
   "metadata": {},
   "outputs": [],
   "source": [
    "X = [\n",
    "'bathrooms',\n",
    "'bedrooms',\n",
    "'floors',\n",
    "'parkingSpaces',\n",
    "'suites',\n",
    "'unitFloor',\n",
    "'unitsOnTheFloor',\n",
    "'usableAreas',\n",
    "'condo',\n",
    "'iptu',\n",
    "'Apartamento',\n",
    "'Casa',\n",
    "'Outros',\n",
    "'Zona Central',\n",
    "'Zona Norte',\n",
    "'Zona Oeste',\n",
    "'Zona Sul'\n",
    "]"
   ]
  },
  {
   "cell_type": "code",
   "execution_count": 43,
   "metadata": {},
   "outputs": [],
   "source": [
    "assembler = VectorAssembler(inputCols=X,outputCol='features')"
   ]
  },
  {
   "cell_type": "code",
   "execution_count": 44,
   "metadata": {},
   "outputs": [
    {
     "name": "stderr",
     "output_type": "stream",
     "text": [
      "                                                                                \r"
     ]
    },
    {
     "name": "stdout",
     "output_type": "stream",
     "text": [
      "+---------------+-----------+-----------+---------+--------+------+-------------+------+---------+---------------+-----------+--------------------+------------+-------+-----+-----+-----------+----+------+------------+----------+----------+--------+\n",
      "|     customerID|       unit|      usage|bathrooms|bedrooms|floors|parkingSpaces|suites|unitFloor|unitsOnTheFloor|usableAreas|        neighborhood|        zone|  label|condo| iptu|Apartamento|Casa|Outros|Zona Central|Zona Norte|Zona Oeste|Zona Sul|\n",
      "+---------------+-----------+-----------+---------+--------+------+-------------+------+---------+---------------+-----------+--------------------+------------+-------+-----+-----+-----------+----+------+------------+----------+----------+--------+\n",
      "|775564-BOJSMVON|     Outros|Residencial|        0|       0|     0|            1|     0|        0|              0|         62|             Taquara|  Zona Oeste|45000.0|150.0|  0.0|          0|   0|     1|           0|         0|         1|       0|\n",
      "|660895-AUENKNYY|Apartamento|Residencial|        1|       2|     0|            1|     0|        0|              0|         44|          Santíssimo|  Zona Oeste|45000.0|120.0|  0.0|          1|   0|     0|           0|         0|         1|       0|\n",
      "|751522-JESYFEQL|     Outros|Residencial|        0|       0|     0|            0|     0|        0|              0|        132|  Pedra de Guaratiba|  Zona Oeste|50000.0|100.0|  0.0|          0|   0|     1|           0|         0|         1|       0|\n",
      "|568886-ZIBFOMCC|Apartamento|Residencial|        2|       3|     3|            1|     1|        2|              4|         60|Recreio dos Bande...|  Zona Oeste|50000.0|400.0|120.0|          1|   0|     0|           0|         0|         1|       0|\n",
      "|526755-OBLTYTEN|     Outros|Residencial|        0|       0|     0|            0|     0|        0|              0|        200|           Guaratiba|  Zona Oeste|50000.0|  0.0|  0.0|          0|   0|     1|           0|         0|         1|       0|\n",
      "|792086-NWNQTDYL|Apartamento|Residencial|        1|       1|     0|            1|     0|        0|              0|         33|         Jacarezinho|  Zona Norte|45336.0|  0.0|  0.0|          1|   0|     0|           0|         1|         0|       0|\n",
      "|339622-MNZGLKTZ|     Outros|Residencial|        0|       0|     0|            0|     0|        0|              0|        120|           Guaratiba|  Zona Oeste|45000.0|  0.0|  0.0|          0|   0|     1|           0|         0|         1|       0|\n",
      "|952338-SVULQMXR|     Outros|Residencial|        0|       0|     0|            0|     0|        0|              0|        468|          Santa Cruz|  Zona Oeste|45000.0|  0.0|  0.0|          0|   0|     1|           0|         0|         1|       0|\n",
      "|570439-LDICQOXZ|     Outros|Residencial|        0|       0|     0|            0|     0|        1|              0|        180|       Vargem Grande|  Zona Oeste|50000.0|  0.0|  0.0|          0|   0|     1|           0|         0|         1|       0|\n",
      "|684023-YTBNKLLO|     Outros|Residencial|        0|       0|     0|            0|     0|        0|              0|        128|               Bangu|  Zona Oeste|50000.0|  0.0|  0.0|          0|   0|     1|           0|         0|         1|       0|\n",
      "|629412-VKUMMAVR|     Outros|Residencial|        0|       0|     0|            0|     0|        1|              0|         82|              Tanque|  Zona Oeste|45000.0|300.0|  0.0|          0|   0|     1|           0|         0|         1|       0|\n",
      "|951104-MACIAPIS|Apartamento|Residencial|        2|       3|    20|            1|     1|       20|             19|         70|        Santo Cristo|Zona Central|45000.0|350.0|120.0|          1|   0|     0|           1|         0|         0|       0|\n",
      "|375665-GHMFEZXX|Apartamento|Residencial|        2|       3|    20|            1|     1|       20|             19|         70|        Santo Cristo|Zona Central|50000.0|350.0|120.0|          1|   0|     0|           1|         0|         0|       0|\n",
      "|441711-LRTWHRUA|Apartamento|Residencial|        1|       1|     0|            0|     0|        2|              0|         37|  Pedra de Guaratiba|  Zona Oeste|50000.0|  0.0|  0.0|          1|   0|     0|           0|         0|         1|       0|\n",
      "|221946-ENAQETGD|     Outros|Residencial|        0|       0|     0|            0|     0|        0|              0|        120|           Guaratiba|  Zona Oeste|45020.0|  0.0|  0.0|          0|   0|     1|           0|         0|         1|       0|\n",
      "|023787-PTASXXTL|     Outros|Residencial|        0|       0|     0|            0|     0|        0|              0|        120|           Guaratiba|  Zona Oeste|45040.0|  0.0|  0.0|          0|   0|     1|           0|         0|         1|       0|\n",
      "|385687-SWOBLUWG|     Outros|Residencial|        0|       0|     0|            0|     0|        0|              0|        150|          Santa Cruz|  Zona Oeste|45000.0|  0.0|  0.0|          0|   0|     1|           0|         0|         1|       0|\n",
      "|037953-VZOABKON|Apartamento|Residencial|        1|       2|     0|            1|     0|        0|              0|         30|         Coelho Neto|  Zona Norte|45000.0|  0.0|  0.0|          1|   0|     0|           0|         1|         0|       0|\n",
      "|913561-GIAMXOYU|     Outros|Residencial|        0|       0|     0|            0|     0|        0|              0|        128|           Guaratiba|  Zona Oeste|45000.0|  0.0|  0.0|          0|   0|     1|           0|         0|         1|       0|\n",
      "|511928-EYKXPKBU|     Outros|Residencial|        0|       0|     0|            0|     0|        0|              0|        120|           Guaratiba|  Zona Oeste|45070.0|  0.0|  0.0|          0|   0|     1|           0|         0|         1|       0|\n",
      "+---------------+-----------+-----------+---------+--------+------+-------------+------+---------+---------------+-----------+--------------------+------------+-------+-----+-----+-----------+----+------+------------+----------+----------+--------+\n",
      "only showing top 20 rows\n",
      "\n"
     ]
    }
   ],
   "source": [
    "dataset.show()"
   ]
  },
  {
   "cell_type": "code",
   "execution_count": 45,
   "metadata": {},
   "outputs": [],
   "source": [
    "dataset_prep = assembler.transform(dataset).select('features','label')"
   ]
  },
  {
   "cell_type": "code",
   "execution_count": 46,
   "metadata": {},
   "outputs": [
    {
     "name": "stderr",
     "output_type": "stream",
     "text": [
      "                                                                                \r"
     ]
    },
    {
     "name": "stdout",
     "output_type": "stream",
     "text": [
      "+--------------------------------------------------------------------------+-------+\n",
      "|features                                                                  |label  |\n",
      "+--------------------------------------------------------------------------+-------+\n",
      "|(17,[3,7,8,12,15],[1.0,62.0,150.0,1.0,1.0])                               |45000.0|\n",
      "|(17,[0,1,3,7,8,10,15],[1.0,2.0,1.0,44.0,120.0,1.0,1.0])                   |45000.0|\n",
      "|(17,[7,8,12,15],[132.0,100.0,1.0,1.0])                                    |50000.0|\n",
      "|[2.0,3.0,3.0,1.0,1.0,2.0,4.0,60.0,400.0,120.0,1.0,0.0,0.0,0.0,0.0,1.0,0.0]|50000.0|\n",
      "|(17,[7,12,15],[200.0,1.0,1.0])                                            |50000.0|\n",
      "|(17,[0,1,3,7,10,14],[1.0,1.0,1.0,33.0,1.0,1.0])                           |45336.0|\n",
      "|(17,[7,12,15],[120.0,1.0,1.0])                                            |45000.0|\n",
      "|(17,[7,12,15],[468.0,1.0,1.0])                                            |45000.0|\n",
      "|(17,[5,7,12,15],[1.0,180.0,1.0,1.0])                                      |50000.0|\n",
      "|(17,[7,12,15],[128.0,1.0,1.0])                                            |50000.0|\n",
      "+--------------------------------------------------------------------------+-------+\n",
      "only showing top 10 rows\n",
      "\n"
     ]
    }
   ],
   "source": [
    "dataset_prep.show(10,truncate=False)"
   ]
  },
  {
   "cell_type": "markdown",
   "metadata": {},
   "source": [
    "Exploration"
   ]
  },
  {
   "cell_type": "code",
   "execution_count": 47,
   "metadata": {},
   "outputs": [],
   "source": [
    "from pyspark.ml.stat import Correlation\n",
    "import pandas as pd"
   ]
  },
  {
   "cell_type": "code",
   "execution_count": 48,
   "metadata": {},
   "outputs": [
    {
     "name": "stderr",
     "output_type": "stream",
     "text": [
      "                                                                                \r"
     ]
    },
    {
     "data": {
      "text/plain": [
       "DenseMatrix(17, 17, [1.0, 0.6659, -0.0446, 0.4876, 0.7529, 0.0076, -0.1074, 0.5981, ..., 0.0088, 0.1803, -0.1833, -0.0165, -0.073, -0.3084, -0.6176, 1.0], False)"
      ]
     },
     "execution_count": 48,
     "metadata": {},
     "output_type": "execute_result"
    }
   ],
   "source": [
    "correlacao = Correlation.corr(dataset_prep,'features').collect()[0][0]\n",
    "correlacao"
   ]
  },
  {
   "cell_type": "code",
   "execution_count": 49,
   "metadata": {},
   "outputs": [
    {
     "data": {
      "text/html": [
       "<div>\n",
       "<style scoped>\n",
       "    .dataframe tbody tr th:only-of-type {\n",
       "        vertical-align: middle;\n",
       "    }\n",
       "\n",
       "    .dataframe tbody tr th {\n",
       "        vertical-align: top;\n",
       "    }\n",
       "\n",
       "    .dataframe thead th {\n",
       "        text-align: right;\n",
       "    }\n",
       "</style>\n",
       "<table border=\"1\" class=\"dataframe\">\n",
       "  <thead>\n",
       "    <tr style=\"text-align: right;\">\n",
       "      <th></th>\n",
       "      <th>bathrooms</th>\n",
       "      <th>bedrooms</th>\n",
       "      <th>floors</th>\n",
       "      <th>parkingSpaces</th>\n",
       "      <th>suites</th>\n",
       "      <th>unitFloor</th>\n",
       "      <th>unitsOnTheFloor</th>\n",
       "      <th>usableAreas</th>\n",
       "      <th>condo</th>\n",
       "      <th>iptu</th>\n",
       "      <th>Apartamento</th>\n",
       "      <th>Casa</th>\n",
       "      <th>Outros</th>\n",
       "      <th>Zona Central</th>\n",
       "      <th>Zona Norte</th>\n",
       "      <th>Zona Oeste</th>\n",
       "      <th>Zona Sul</th>\n",
       "    </tr>\n",
       "  </thead>\n",
       "  <tbody>\n",
       "    <tr>\n",
       "      <th>bathrooms</th>\n",
       "      <td>1.000000</td>\n",
       "      <td>0.665911</td>\n",
       "      <td>-0.044591</td>\n",
       "      <td>0.487590</td>\n",
       "      <td>0.752928</td>\n",
       "      <td>0.007624</td>\n",
       "      <td>-0.107437</td>\n",
       "      <td>0.598073</td>\n",
       "      <td>0.020030</td>\n",
       "      <td>0.015102</td>\n",
       "      <td>-0.275458</td>\n",
       "      <td>0.343042</td>\n",
       "      <td>-0.140183</td>\n",
       "      <td>-0.097368</td>\n",
       "      <td>-0.162497</td>\n",
       "      <td>0.242345</td>\n",
       "      <td>-0.098752</td>\n",
       "    </tr>\n",
       "    <tr>\n",
       "      <th>bedrooms</th>\n",
       "      <td>0.665911</td>\n",
       "      <td>1.000000</td>\n",
       "      <td>-0.082184</td>\n",
       "      <td>0.467161</td>\n",
       "      <td>0.601199</td>\n",
       "      <td>-0.007162</td>\n",
       "      <td>-0.130814</td>\n",
       "      <td>0.563750</td>\n",
       "      <td>0.018482</td>\n",
       "      <td>0.013639</td>\n",
       "      <td>-0.258339</td>\n",
       "      <td>0.349962</td>\n",
       "      <td>-0.205608</td>\n",
       "      <td>-0.123732</td>\n",
       "      <td>-0.111712</td>\n",
       "      <td>0.163822</td>\n",
       "      <td>-0.049433</td>\n",
       "    </tr>\n",
       "    <tr>\n",
       "      <th>floors</th>\n",
       "      <td>-0.044591</td>\n",
       "      <td>-0.082184</td>\n",
       "      <td>1.000000</td>\n",
       "      <td>-0.048486</td>\n",
       "      <td>-0.048106</td>\n",
       "      <td>0.120982</td>\n",
       "      <td>0.737717</td>\n",
       "      <td>-0.103917</td>\n",
       "      <td>0.013797</td>\n",
       "      <td>0.006688</td>\n",
       "      <td>0.153947</td>\n",
       "      <td>-0.142090</td>\n",
       "      <td>-0.051946</td>\n",
       "      <td>0.126044</td>\n",
       "      <td>-0.016926</td>\n",
       "      <td>-0.031750</td>\n",
       "      <td>0.017402</td>\n",
       "    </tr>\n",
       "    <tr>\n",
       "      <th>parkingSpaces</th>\n",
       "      <td>0.487590</td>\n",
       "      <td>0.467161</td>\n",
       "      <td>-0.048486</td>\n",
       "      <td>1.000000</td>\n",
       "      <td>0.484988</td>\n",
       "      <td>0.003768</td>\n",
       "      <td>-0.074527</td>\n",
       "      <td>0.483732</td>\n",
       "      <td>0.018012</td>\n",
       "      <td>0.009721</td>\n",
       "      <td>-0.252746</td>\n",
       "      <td>0.293326</td>\n",
       "      <td>-0.072359</td>\n",
       "      <td>-0.086437</td>\n",
       "      <td>-0.109957</td>\n",
       "      <td>0.267990</td>\n",
       "      <td>-0.178807</td>\n",
       "    </tr>\n",
       "    <tr>\n",
       "      <th>suites</th>\n",
       "      <td>0.752928</td>\n",
       "      <td>0.601199</td>\n",
       "      <td>-0.048106</td>\n",
       "      <td>0.484988</td>\n",
       "      <td>1.000000</td>\n",
       "      <td>0.005206</td>\n",
       "      <td>-0.091914</td>\n",
       "      <td>0.577636</td>\n",
       "      <td>0.023461</td>\n",
       "      <td>0.019093</td>\n",
       "      <td>-0.236217</td>\n",
       "      <td>0.282221</td>\n",
       "      <td>-0.088834</td>\n",
       "      <td>-0.084417</td>\n",
       "      <td>-0.230317</td>\n",
       "      <td>0.327546</td>\n",
       "      <td>-0.136398</td>\n",
       "    </tr>\n",
       "    <tr>\n",
       "      <th>unitFloor</th>\n",
       "      <td>0.007624</td>\n",
       "      <td>-0.007162</td>\n",
       "      <td>0.120982</td>\n",
       "      <td>0.003768</td>\n",
       "      <td>0.005206</td>\n",
       "      <td>1.000000</td>\n",
       "      <td>0.092359</td>\n",
       "      <td>-0.012748</td>\n",
       "      <td>0.003065</td>\n",
       "      <td>0.001200</td>\n",
       "      <td>0.034674</td>\n",
       "      <td>-0.031403</td>\n",
       "      <td>-0.013275</td>\n",
       "      <td>0.022315</td>\n",
       "      <td>-0.011112</td>\n",
       "      <td>0.007518</td>\n",
       "      <td>-0.004333</td>\n",
       "    </tr>\n",
       "    <tr>\n",
       "      <th>unitsOnTheFloor</th>\n",
       "      <td>-0.107437</td>\n",
       "      <td>-0.130814</td>\n",
       "      <td>0.737717</td>\n",
       "      <td>-0.074527</td>\n",
       "      <td>-0.091914</td>\n",
       "      <td>0.092359</td>\n",
       "      <td>1.000000</td>\n",
       "      <td>-0.144222</td>\n",
       "      <td>-0.000554</td>\n",
       "      <td>0.005029</td>\n",
       "      <td>0.147497</td>\n",
       "      <td>-0.137754</td>\n",
       "      <td>-0.045523</td>\n",
       "      <td>0.153639</td>\n",
       "      <td>0.030753</td>\n",
       "      <td>-0.012434</td>\n",
       "      <td>-0.055540</td>\n",
       "    </tr>\n",
       "    <tr>\n",
       "      <th>usableAreas</th>\n",
       "      <td>0.598073</td>\n",
       "      <td>0.563750</td>\n",
       "      <td>-0.103917</td>\n",
       "      <td>0.483732</td>\n",
       "      <td>0.577636</td>\n",
       "      <td>-0.012748</td>\n",
       "      <td>-0.144222</td>\n",
       "      <td>1.000000</td>\n",
       "      <td>0.019717</td>\n",
       "      <td>0.014656</td>\n",
       "      <td>-0.482170</td>\n",
       "      <td>0.459136</td>\n",
       "      <td>0.125672</td>\n",
       "      <td>-0.075256</td>\n",
       "      <td>-0.158553</td>\n",
       "      <td>0.192466</td>\n",
       "      <td>-0.051962</td>\n",
       "    </tr>\n",
       "    <tr>\n",
       "      <th>condo</th>\n",
       "      <td>0.020030</td>\n",
       "      <td>0.018482</td>\n",
       "      <td>0.013797</td>\n",
       "      <td>0.018012</td>\n",
       "      <td>0.023461</td>\n",
       "      <td>0.003065</td>\n",
       "      <td>-0.000554</td>\n",
       "      <td>0.019717</td>\n",
       "      <td>1.000000</td>\n",
       "      <td>0.226212</td>\n",
       "      <td>0.009105</td>\n",
       "      <td>-0.008624</td>\n",
       "      <td>-0.002495</td>\n",
       "      <td>-0.003553</td>\n",
       "      <td>-0.013453</td>\n",
       "      <td>-0.001055</td>\n",
       "      <td>0.014474</td>\n",
       "    </tr>\n",
       "    <tr>\n",
       "      <th>iptu</th>\n",
       "      <td>0.015102</td>\n",
       "      <td>0.013639</td>\n",
       "      <td>0.006688</td>\n",
       "      <td>0.009721</td>\n",
       "      <td>0.019093</td>\n",
       "      <td>0.001200</td>\n",
       "      <td>0.005029</td>\n",
       "      <td>0.014656</td>\n",
       "      <td>0.226212</td>\n",
       "      <td>1.000000</td>\n",
       "      <td>-0.001502</td>\n",
       "      <td>0.002291</td>\n",
       "      <td>-0.001870</td>\n",
       "      <td>-0.002438</td>\n",
       "      <td>-0.008400</td>\n",
       "      <td>-0.000428</td>\n",
       "      <td>0.008835</td>\n",
       "    </tr>\n",
       "    <tr>\n",
       "      <th>Apartamento</th>\n",
       "      <td>-0.275458</td>\n",
       "      <td>-0.258339</td>\n",
       "      <td>0.153947</td>\n",
       "      <td>-0.252746</td>\n",
       "      <td>-0.236217</td>\n",
       "      <td>0.034674</td>\n",
       "      <td>0.147497</td>\n",
       "      <td>-0.482170</td>\n",
       "      <td>0.009105</td>\n",
       "      <td>-0.001502</td>\n",
       "      <td>1.000000</td>\n",
       "      <td>-0.932270</td>\n",
       "      <td>-0.313032</td>\n",
       "      <td>0.034073</td>\n",
       "      <td>0.010312</td>\n",
       "      <td>-0.176033</td>\n",
       "      <td>0.180288</td>\n",
       "    </tr>\n",
       "    <tr>\n",
       "      <th>Casa</th>\n",
       "      <td>0.343042</td>\n",
       "      <td>0.349962</td>\n",
       "      <td>-0.142090</td>\n",
       "      <td>0.293326</td>\n",
       "      <td>0.282221</td>\n",
       "      <td>-0.031403</td>\n",
       "      <td>-0.137754</td>\n",
       "      <td>0.459136</td>\n",
       "      <td>-0.008624</td>\n",
       "      <td>0.002291</td>\n",
       "      <td>-0.932270</td>\n",
       "      <td>1.000000</td>\n",
       "      <td>-0.051751</td>\n",
       "      <td>-0.041823</td>\n",
       "      <td>-0.007961</td>\n",
       "      <td>0.178640</td>\n",
       "      <td>-0.183298</td>\n",
       "    </tr>\n",
       "    <tr>\n",
       "      <th>Outros</th>\n",
       "      <td>-0.140183</td>\n",
       "      <td>-0.205608</td>\n",
       "      <td>-0.051946</td>\n",
       "      <td>-0.072359</td>\n",
       "      <td>-0.088834</td>\n",
       "      <td>-0.013275</td>\n",
       "      <td>-0.045523</td>\n",
       "      <td>0.125672</td>\n",
       "      <td>-0.002495</td>\n",
       "      <td>-0.001870</td>\n",
       "      <td>-0.313032</td>\n",
       "      <td>-0.051751</td>\n",
       "      <td>1.000000</td>\n",
       "      <td>0.015738</td>\n",
       "      <td>-0.007568</td>\n",
       "      <td>0.016960</td>\n",
       "      <td>-0.016476</td>\n",
       "    </tr>\n",
       "    <tr>\n",
       "      <th>Zona Central</th>\n",
       "      <td>-0.097368</td>\n",
       "      <td>-0.123732</td>\n",
       "      <td>0.126044</td>\n",
       "      <td>-0.086437</td>\n",
       "      <td>-0.084417</td>\n",
       "      <td>0.022315</td>\n",
       "      <td>0.153639</td>\n",
       "      <td>-0.075256</td>\n",
       "      <td>-0.003553</td>\n",
       "      <td>-0.002438</td>\n",
       "      <td>0.034073</td>\n",
       "      <td>-0.041823</td>\n",
       "      <td>0.015738</td>\n",
       "      <td>1.000000</td>\n",
       "      <td>-0.061835</td>\n",
       "      <td>-0.123834</td>\n",
       "      <td>-0.073014</td>\n",
       "    </tr>\n",
       "    <tr>\n",
       "      <th>Zona Norte</th>\n",
       "      <td>-0.162497</td>\n",
       "      <td>-0.111712</td>\n",
       "      <td>-0.016926</td>\n",
       "      <td>-0.109957</td>\n",
       "      <td>-0.230317</td>\n",
       "      <td>-0.011112</td>\n",
       "      <td>0.030753</td>\n",
       "      <td>-0.158553</td>\n",
       "      <td>-0.013453</td>\n",
       "      <td>-0.008400</td>\n",
       "      <td>0.010312</td>\n",
       "      <td>-0.007961</td>\n",
       "      <td>-0.007568</td>\n",
       "      <td>-0.061835</td>\n",
       "      <td>1.000000</td>\n",
       "      <td>-0.522996</td>\n",
       "      <td>-0.308366</td>\n",
       "    </tr>\n",
       "    <tr>\n",
       "      <th>Zona Oeste</th>\n",
       "      <td>0.242345</td>\n",
       "      <td>0.163822</td>\n",
       "      <td>-0.031750</td>\n",
       "      <td>0.267990</td>\n",
       "      <td>0.327546</td>\n",
       "      <td>0.007518</td>\n",
       "      <td>-0.012434</td>\n",
       "      <td>0.192466</td>\n",
       "      <td>-0.001055</td>\n",
       "      <td>-0.000428</td>\n",
       "      <td>-0.176033</td>\n",
       "      <td>0.178640</td>\n",
       "      <td>0.016960</td>\n",
       "      <td>-0.123834</td>\n",
       "      <td>-0.522996</td>\n",
       "      <td>1.000000</td>\n",
       "      <td>-0.617551</td>\n",
       "    </tr>\n",
       "    <tr>\n",
       "      <th>Zona Sul</th>\n",
       "      <td>-0.098752</td>\n",
       "      <td>-0.049433</td>\n",
       "      <td>0.017402</td>\n",
       "      <td>-0.178807</td>\n",
       "      <td>-0.136398</td>\n",
       "      <td>-0.004333</td>\n",
       "      <td>-0.055540</td>\n",
       "      <td>-0.051962</td>\n",
       "      <td>0.014474</td>\n",
       "      <td>0.008835</td>\n",
       "      <td>0.180288</td>\n",
       "      <td>-0.183298</td>\n",
       "      <td>-0.016476</td>\n",
       "      <td>-0.073014</td>\n",
       "      <td>-0.308366</td>\n",
       "      <td>-0.617551</td>\n",
       "      <td>1.000000</td>\n",
       "    </tr>\n",
       "  </tbody>\n",
       "</table>\n",
       "</div>"
      ],
      "text/plain": [
       "                 bathrooms  bedrooms    floors  parkingSpaces    suites  \\\n",
       "bathrooms         1.000000  0.665911 -0.044591       0.487590  0.752928   \n",
       "bedrooms          0.665911  1.000000 -0.082184       0.467161  0.601199   \n",
       "floors           -0.044591 -0.082184  1.000000      -0.048486 -0.048106   \n",
       "parkingSpaces     0.487590  0.467161 -0.048486       1.000000  0.484988   \n",
       "suites            0.752928  0.601199 -0.048106       0.484988  1.000000   \n",
       "unitFloor         0.007624 -0.007162  0.120982       0.003768  0.005206   \n",
       "unitsOnTheFloor  -0.107437 -0.130814  0.737717      -0.074527 -0.091914   \n",
       "usableAreas       0.598073  0.563750 -0.103917       0.483732  0.577636   \n",
       "condo             0.020030  0.018482  0.013797       0.018012  0.023461   \n",
       "iptu              0.015102  0.013639  0.006688       0.009721  0.019093   \n",
       "Apartamento      -0.275458 -0.258339  0.153947      -0.252746 -0.236217   \n",
       "Casa              0.343042  0.349962 -0.142090       0.293326  0.282221   \n",
       "Outros           -0.140183 -0.205608 -0.051946      -0.072359 -0.088834   \n",
       "Zona Central     -0.097368 -0.123732  0.126044      -0.086437 -0.084417   \n",
       "Zona Norte       -0.162497 -0.111712 -0.016926      -0.109957 -0.230317   \n",
       "Zona Oeste        0.242345  0.163822 -0.031750       0.267990  0.327546   \n",
       "Zona Sul         -0.098752 -0.049433  0.017402      -0.178807 -0.136398   \n",
       "\n",
       "                 unitFloor  unitsOnTheFloor  usableAreas     condo      iptu  \\\n",
       "bathrooms         0.007624        -0.107437     0.598073  0.020030  0.015102   \n",
       "bedrooms         -0.007162        -0.130814     0.563750  0.018482  0.013639   \n",
       "floors            0.120982         0.737717    -0.103917  0.013797  0.006688   \n",
       "parkingSpaces     0.003768        -0.074527     0.483732  0.018012  0.009721   \n",
       "suites            0.005206        -0.091914     0.577636  0.023461  0.019093   \n",
       "unitFloor         1.000000         0.092359    -0.012748  0.003065  0.001200   \n",
       "unitsOnTheFloor   0.092359         1.000000    -0.144222 -0.000554  0.005029   \n",
       "usableAreas      -0.012748        -0.144222     1.000000  0.019717  0.014656   \n",
       "condo             0.003065        -0.000554     0.019717  1.000000  0.226212   \n",
       "iptu              0.001200         0.005029     0.014656  0.226212  1.000000   \n",
       "Apartamento       0.034674         0.147497    -0.482170  0.009105 -0.001502   \n",
       "Casa             -0.031403        -0.137754     0.459136 -0.008624  0.002291   \n",
       "Outros           -0.013275        -0.045523     0.125672 -0.002495 -0.001870   \n",
       "Zona Central      0.022315         0.153639    -0.075256 -0.003553 -0.002438   \n",
       "Zona Norte       -0.011112         0.030753    -0.158553 -0.013453 -0.008400   \n",
       "Zona Oeste        0.007518        -0.012434     0.192466 -0.001055 -0.000428   \n",
       "Zona Sul         -0.004333        -0.055540    -0.051962  0.014474  0.008835   \n",
       "\n",
       "                 Apartamento      Casa    Outros  Zona Central  Zona Norte  \\\n",
       "bathrooms          -0.275458  0.343042 -0.140183     -0.097368   -0.162497   \n",
       "bedrooms           -0.258339  0.349962 -0.205608     -0.123732   -0.111712   \n",
       "floors              0.153947 -0.142090 -0.051946      0.126044   -0.016926   \n",
       "parkingSpaces      -0.252746  0.293326 -0.072359     -0.086437   -0.109957   \n",
       "suites             -0.236217  0.282221 -0.088834     -0.084417   -0.230317   \n",
       "unitFloor           0.034674 -0.031403 -0.013275      0.022315   -0.011112   \n",
       "unitsOnTheFloor     0.147497 -0.137754 -0.045523      0.153639    0.030753   \n",
       "usableAreas        -0.482170  0.459136  0.125672     -0.075256   -0.158553   \n",
       "condo               0.009105 -0.008624 -0.002495     -0.003553   -0.013453   \n",
       "iptu               -0.001502  0.002291 -0.001870     -0.002438   -0.008400   \n",
       "Apartamento         1.000000 -0.932270 -0.313032      0.034073    0.010312   \n",
       "Casa               -0.932270  1.000000 -0.051751     -0.041823   -0.007961   \n",
       "Outros             -0.313032 -0.051751  1.000000      0.015738   -0.007568   \n",
       "Zona Central        0.034073 -0.041823  0.015738      1.000000   -0.061835   \n",
       "Zona Norte          0.010312 -0.007961 -0.007568     -0.061835    1.000000   \n",
       "Zona Oeste         -0.176033  0.178640  0.016960     -0.123834   -0.522996   \n",
       "Zona Sul            0.180288 -0.183298 -0.016476     -0.073014   -0.308366   \n",
       "\n",
       "                 Zona Oeste  Zona Sul  \n",
       "bathrooms          0.242345 -0.098752  \n",
       "bedrooms           0.163822 -0.049433  \n",
       "floors            -0.031750  0.017402  \n",
       "parkingSpaces      0.267990 -0.178807  \n",
       "suites             0.327546 -0.136398  \n",
       "unitFloor          0.007518 -0.004333  \n",
       "unitsOnTheFloor   -0.012434 -0.055540  \n",
       "usableAreas        0.192466 -0.051962  \n",
       "condo             -0.001055  0.014474  \n",
       "iptu              -0.000428  0.008835  \n",
       "Apartamento       -0.176033  0.180288  \n",
       "Casa               0.178640 -0.183298  \n",
       "Outros             0.016960 -0.016476  \n",
       "Zona Central      -0.123834 -0.073014  \n",
       "Zona Norte        -0.522996 -0.308366  \n",
       "Zona Oeste         1.000000 -0.617551  \n",
       "Zona Sul          -0.617551  1.000000  "
      ]
     },
     "execution_count": 49,
     "metadata": {},
     "output_type": "execute_result"
    }
   ],
   "source": [
    "df_cor =pd.DataFrame(correlacao.toArray(),columns=X,index=X)\n",
    "df_cor"
   ]
  },
  {
   "cell_type": "code",
   "execution_count": 50,
   "metadata": {},
   "outputs": [],
   "source": [
    "import matplotlib.pyplot as plt\n",
    "import seaborn as sns"
   ]
  },
  {
   "cell_type": "code",
   "execution_count": 51,
   "metadata": {},
   "outputs": [
    {
     "data": {
      "text/plain": [
       "<AxesSubplot:>"
      ]
     },
     "execution_count": 51,
     "metadata": {},
     "output_type": "execute_result"
    },
    {
     "data": {
      "image/png": "[encoded data removed]",
      "text/plain": [
       "<Figure size 864x720 with 2 Axes>"
      ]
     },
     "metadata": {
      "needs_background": "light"
     },
     "output_type": "display_data"
    }
   ],
   "source": [
    "plt.figure(figsize=(12,10))\n",
    "paleta = sns.color_palette(\"light:salmon\",as_cmap=True)\n",
    "sns.heatmap(df_cor.round(1),annot=True, cmap=paleta)"
   ]
  },
  {
   "cell_type": "markdown",
   "metadata": {},
   "source": [
    "Model"
   ]
  },
  {
   "cell_type": "code",
   "execution_count": 52,
   "metadata": {},
   "outputs": [],
   "source": [
    "from pyspark.ml.regression import LinearRegression"
   ]
  },
  {
   "cell_type": "code",
   "execution_count": 53,
   "metadata": {},
   "outputs": [],
   "source": [
    "treino, teste = dataset_prep.randomSplit([0.7,0.3],seed=101)"
   ]
  },
  {
   "cell_type": "code",
   "execution_count": 54,
   "metadata": {},
   "outputs": [
    {
     "name": "stderr",
     "output_type": "stream",
     "text": [
      "                                                                                \r"
     ]
    },
    {
     "data": {
      "text/plain": [
       "48528"
      ]
     },
     "execution_count": 54,
     "metadata": {},
     "output_type": "execute_result"
    }
   ],
   "source": [
    "treino.count()"
   ]
  },
  {
   "cell_type": "code",
   "execution_count": 55,
   "metadata": {},
   "outputs": [
    {
     "name": "stderr",
     "output_type": "stream",
     "text": [
      "                                                                                \r"
     ]
    },
    {
     "data": {
      "text/plain": [
       "20911"
      ]
     },
     "execution_count": 55,
     "metadata": {},
     "output_type": "execute_result"
    }
   ],
   "source": [
    "teste.count()"
   ]
  },
  {
   "cell_type": "code",
   "execution_count": 56,
   "metadata": {},
   "outputs": [
    {
     "name": "stderr",
     "output_type": "stream",
     "text": [
      "                                                                                \r"
     ]
    }
   ],
   "source": [
    "model = LinearRegression().fit(treino)"
   ]
  },
  {
   "cell_type": "code",
   "execution_count": 57,
   "metadata": {},
   "outputs": [],
   "source": [
    "previsoes = model.transform(treino)"
   ]
  },
  {
   "cell_type": "code",
   "execution_count": 58,
   "metadata": {},
   "outputs": [
    {
     "name": "stderr",
     "output_type": "stream",
     "text": [
      "[Stage 215:>                                                        (0 + 1) / 1]\r"
     ]
    },
    {
     "name": "stdout",
     "output_type": "stream",
     "text": [
      "+--------------------+--------+------------------+\n",
      "|            features|   label|        prediction|\n",
      "+--------------------+--------+------------------+\n",
      "|(17,[0,1,2,3,4,5,...|260000.0|443266.04737020144|\n",
      "|(17,[0,1,2,3,4,5,...|500000.0|1127455.8300462805|\n",
      "|(17,[0,1,2,3,4,5,...|308615.0|111210.49949889386|\n",
      "|(17,[0,1,2,3,4,5,...|279000.0|113587.95787719043|\n",
      "|(17,[0,1,2,3,4,5,...|545000.0|340703.71307873435|\n",
      "|(17,[0,1,2,3,4,5,...|449000.0|390571.99595798284|\n",
      "|(17,[0,1,2,3,4,5,...|479000.0| 444003.4297194885|\n",
      "|(17,[0,1,2,3,4,5,...|420000.0| 720022.1542161054|\n",
      "|(17,[0,1,2,3,4,5,...|265000.0|519406.05037395435|\n",
      "|(17,[0,1,2,3,4,5,...|490000.0| 845483.5388437647|\n",
      "|(17,[0,1,2,3,4,5,...|650000.0| 644931.4982488954|\n",
      "|(17,[0,1,2,3,4,5,...|379900.0| 448889.3339027724|\n",
      "|(17,[0,1,2,3,4,5,...|449000.0| 714548.9501108339|\n",
      "|(17,[0,1,2,3,4,5,...|190000.0| 411726.9411630478|\n",
      "|(17,[0,1,2,3,4,5,...|896000.0| 597499.4601552959|\n",
      "|(17,[0,1,2,3,4,5,...|679000.0| 864544.0129262989|\n",
      "|(17,[0,1,2,3,4,5,...|620000.0| 462766.7203440106|\n",
      "|(17,[0,1,2,3,4,5,...|727000.0|419082.43132300966|\n",
      "|(17,[0,1,2,3,4,5,...|880000.0| 742962.4865669494|\n",
      "|(17,[0,1,2,3,4,5,...|435000.0| 357556.2432515231|\n",
      "+--------------------+--------+------------------+\n",
      "only showing top 20 rows\n",
      "\n"
     ]
    },
    {
     "name": "stderr",
     "output_type": "stream",
     "text": [
      "                                                                                \r"
     ]
    }
   ],
   "source": [
    "previsoes.show()"
   ]
  },
  {
   "cell_type": "markdown",
   "metadata": {},
   "source": [
    "Metrics"
   ]
  },
  {
   "cell_type": "code",
   "execution_count": 59,
   "metadata": {},
   "outputs": [],
   "source": [
    "summary = model.summary"
   ]
  },
  {
   "cell_type": "code",
   "execution_count": 60,
   "metadata": {},
   "outputs": [
    {
     "data": {
      "text/plain": [
       "0.6655873678454578"
      ]
     },
     "execution_count": 60,
     "metadata": {},
     "output_type": "execute_result"
    }
   ],
   "source": [
    "summary.r2"
   ]
  },
  {
   "cell_type": "code",
   "execution_count": 61,
   "metadata": {},
   "outputs": [
    {
     "data": {
      "text/plain": [
       "810348.969531623"
      ]
     },
     "execution_count": 61,
     "metadata": {},
     "output_type": "execute_result"
    }
   ],
   "source": [
    "summary.rootMeanSquaredError"
   ]
  },
  {
   "cell_type": "code",
   "execution_count": 62,
   "metadata": {},
   "outputs": [
    {
     "name": "stderr",
     "output_type": "stream",
     "text": [
      "                                                                                \r"
     ]
    }
   ],
   "source": [
    "resumo = model.evaluate(teste)"
   ]
  },
  {
   "cell_type": "code",
   "execution_count": 63,
   "metadata": {},
   "outputs": [
    {
     "data": {
      "text/plain": [
       "0.6585207937774393"
      ]
     },
     "execution_count": 63,
     "metadata": {},
     "output_type": "execute_result"
    }
   ],
   "source": [
    "resumo.r2"
   ]
  },
  {
   "cell_type": "code",
   "execution_count": 64,
   "metadata": {},
   "outputs": [
    {
     "data": {
      "text/plain": [
       "800525.9696828632"
      ]
     },
     "execution_count": 64,
     "metadata": {},
     "output_type": "execute_result"
    }
   ],
   "source": [
    "resumo.rootMeanSquaredError"
   ]
  },
  {
   "cell_type": "code",
   "execution_count": 65,
   "metadata": {},
   "outputs": [
    {
     "name": "stdout",
     "output_type": "stream",
     "text": [
      "Linear Regression\n",
      "R2 treino 0.6655873678454578 RMSE treino 810348.969531623\n",
      "R2 teste 0.6585207937774393 RMSE teste 800525.9696828632\n"
     ]
    }
   ],
   "source": [
    "print('Linear Regression')\n",
    "print(\"R2 treino\",summary.r2,\"RMSE treino\",summary.rootMeanSquaredError)\n",
    "print(\"R2 teste\",resumo.r2,\"RMSE teste\",resumo.rootMeanSquaredError)\n"
   ]
  },
  {
   "cell_type": "markdown",
   "metadata": {},
   "source": [
    "Decision Tree"
   ]
  },
  {
   "cell_type": "code",
   "execution_count": 66,
   "metadata": {},
   "outputs": [],
   "source": [
    "from pyspark.ml.regression import DecisionTreeRegressor"
   ]
  },
  {
   "cell_type": "code",
   "execution_count": 67,
   "metadata": {},
   "outputs": [
    {
     "name": "stderr",
     "output_type": "stream",
     "text": [
      "                                                                                \r"
     ]
    }
   ],
   "source": [
    "modelo_tree = DecisionTreeRegressor(seed=101,maxDepth=7).fit(treino)"
   ]
  },
  {
   "cell_type": "code",
   "execution_count": 68,
   "metadata": {},
   "outputs": [],
   "source": [
    "previsoes_tree = modelo_tree.transform(treino)"
   ]
  },
  {
   "cell_type": "code",
   "execution_count": 69,
   "metadata": {},
   "outputs": [
    {
     "name": "stderr",
     "output_type": "stream",
     "text": [
      "[Stage 272:>                                                        (0 + 1) / 1]\r"
     ]
    },
    {
     "name": "stdout",
     "output_type": "stream",
     "text": [
      "+--------------------+--------+------------------+\n",
      "|            features|   label|        prediction|\n",
      "+--------------------+--------+------------------+\n",
      "|(17,[0,1,2,3,4,5,...|260000.0| 340855.8044843049|\n",
      "|(17,[0,1,2,3,4,5,...|500000.0| 553816.2525860447|\n",
      "|(17,[0,1,2,3,4,5,...|308615.0| 340855.8044843049|\n",
      "|(17,[0,1,2,3,4,5,...|279000.0| 340855.8044843049|\n",
      "|(17,[0,1,2,3,4,5,...|545000.0|     445137.460625|\n",
      "|(17,[0,1,2,3,4,5,...|449000.0| 553816.2525860447|\n",
      "|(17,[0,1,2,3,4,5,...|479000.0|     445137.460625|\n",
      "|(17,[0,1,2,3,4,5,...|420000.0| 553816.2525860447|\n",
      "|(17,[0,1,2,3,4,5,...|265000.0| 553816.2525860447|\n",
      "|(17,[0,1,2,3,4,5,...|490000.0|  820272.937751004|\n",
      "|(17,[0,1,2,3,4,5,...|650000.0|  736254.943802521|\n",
      "|(17,[0,1,2,3,4,5,...|379900.0|     445137.460625|\n",
      "|(17,[0,1,2,3,4,5,...|449000.0|     445137.460625|\n",
      "|(17,[0,1,2,3,4,5,...|190000.0| 340855.8044843049|\n",
      "|(17,[0,1,2,3,4,5,...|896000.0| 553816.2525860447|\n",
      "|(17,[0,1,2,3,4,5,...|679000.0|1158420.7653661144|\n",
      "|(17,[0,1,2,3,4,5,...|620000.0| 553816.2525860447|\n",
      "|(17,[0,1,2,3,4,5,...|727000.0| 553816.2525860447|\n",
      "|(17,[0,1,2,3,4,5,...|880000.0| 553816.2525860447|\n",
      "|(17,[0,1,2,3,4,5,...|435000.0| 340855.8044843049|\n",
      "+--------------------+--------+------------------+\n",
      "only showing top 20 rows\n",
      "\n"
     ]
    },
    {
     "name": "stderr",
     "output_type": "stream",
     "text": [
      "                                                                                \r"
     ]
    }
   ],
   "source": [
    "previsoes_tree.show()"
   ]
  },
  {
   "cell_type": "code",
   "execution_count": 70,
   "metadata": {},
   "outputs": [],
   "source": [
    "from pyspark.ml.evaluation import RegressionEvaluator"
   ]
  },
  {
   "cell_type": "code",
   "execution_count": 71,
   "metadata": {},
   "outputs": [],
   "source": [
    "teste_tree = modelo_tree.transform(teste)\n",
    "evaluator = RegressionEvaluator()"
   ]
  },
  {
   "cell_type": "code",
   "execution_count": 72,
   "metadata": {},
   "outputs": [
    {
     "name": "stderr",
     "output_type": "stream",
     "text": [
      "                                                                                \r"
     ]
    }
   ],
   "source": [
    "r2_treino_tree = evaluator.evaluate(previsoes_tree,{evaluator.metricName:\"r2\"})\n",
    "rsme_treino_tree = evaluator.evaluate(previsoes_tree,{evaluator.metricName:\"rmse\"})\n",
    "r2_teste_tree = evaluator.evaluate(teste_tree,{evaluator.metricName:\"r2\"})\n",
    "rsme_teste_tree = evaluator.evaluate(teste_tree,{evaluator.metricName:\"rmse\"})"
   ]
  },
  {
   "cell_type": "code",
   "execution_count": 73,
   "metadata": {},
   "outputs": [
    {
     "name": "stdout",
     "output_type": "stream",
     "text": [
      "Decision Tree\n",
      "R2 treino 0.7930752588471226 RMSE treino 637436.5434260432\n",
      "R2 treino 0.7738133838892687 RMSE treino 651518.489920883\n"
     ]
    }
   ],
   "source": [
    "print('Decision Tree')\n",
    "print(\"R2 treino\",r2_treino_tree,\"RMSE treino\",rsme_treino_tree)\n",
    "print(\"R2 treino\",r2_teste_tree,\"RMSE treino\",rsme_teste_tree)"
   ]
  },
  {
   "cell_type": "markdown",
   "metadata": {},
   "source": [
    "Random Forest"
   ]
  },
  {
   "cell_type": "code",
   "execution_count": 74,
   "metadata": {},
   "outputs": [],
   "source": [
    "from pyspark.ml.regression import RandomForestRegressor"
   ]
  },
  {
   "cell_type": "code",
   "execution_count": 75,
   "metadata": {},
   "outputs": [
    {
     "name": "stderr",
     "output_type": "stream",
     "text": [
      "                                                                                \r"
     ]
    }
   ],
   "source": [
    "modelo_rf = RandomForestRegressor(seed=101,maxDepth=7,numTrees=10).fit(treino)"
   ]
  },
  {
   "cell_type": "code",
   "execution_count": 76,
   "metadata": {},
   "outputs": [
    {
     "name": "stderr",
     "output_type": "stream",
     "text": [
      "WARNING: An illegal reflective access operation has occurred\n",
      "WARNING: Illegal reflective access by org.apache.spark.util.SizeEstimator$ (file:/home/vale/.local/lib/python3.10/site-packages/pyspark/jars/spark-core_2.12-3.3.0.jar) to field java.nio.charset.Charset.name\n",
      "WARNING: Please consider reporting this to the maintainers of org.apache.spark.util.SizeEstimator$\n",
      "WARNING: Use --illegal-access=warn to enable warnings of further illegal reflective access operations\n",
      "WARNING: All illegal access operations will be denied in a future release\n"
     ]
    }
   ],
   "source": [
    "previsao_rf = modelo_rf.transform(treino)"
   ]
  },
  {
   "cell_type": "code",
   "execution_count": 77,
   "metadata": {},
   "outputs": [
    {
     "name": "stderr",
     "output_type": "stream",
     "text": [
      "[Stage 371:>                                                        (0 + 1) / 1]\r"
     ]
    },
    {
     "name": "stdout",
     "output_type": "stream",
     "text": [
      "+--------------------+--------+------------------+\n",
      "|            features|   label|        prediction|\n",
      "+--------------------+--------+------------------+\n",
      "|(17,[0,1,2,3,4,5,...|260000.0|390218.33742322924|\n",
      "|(17,[0,1,2,3,4,5,...|500000.0| 510060.6595782173|\n",
      "|(17,[0,1,2,3,4,5,...|308615.0|360766.74127901345|\n",
      "|(17,[0,1,2,3,4,5,...|279000.0|360766.74127901345|\n",
      "|(17,[0,1,2,3,4,5,...|545000.0|  396904.928725379|\n",
      "|(17,[0,1,2,3,4,5,...|449000.0|  492913.652312712|\n",
      "|(17,[0,1,2,3,4,5,...|479000.0|433807.13396085694|\n",
      "|(17,[0,1,2,3,4,5,...|420000.0| 664440.4325776277|\n",
      "|(17,[0,1,2,3,4,5,...|265000.0|479615.50733929937|\n",
      "|(17,[0,1,2,3,4,5,...|490000.0| 816123.0337632223|\n",
      "|(17,[0,1,2,3,4,5,...|650000.0| 640247.1517314625|\n",
      "|(17,[0,1,2,3,4,5,...|379900.0|403131.21721626434|\n",
      "|(17,[0,1,2,3,4,5,...|449000.0|403131.21721626434|\n",
      "|(17,[0,1,2,3,4,5,...|190000.0| 356904.3339549792|\n",
      "|(17,[0,1,2,3,4,5,...|896000.0| 547828.3209496561|\n",
      "|(17,[0,1,2,3,4,5,...|679000.0| 893791.6624292185|\n",
      "|(17,[0,1,2,3,4,5,...|620000.0| 526635.5362588142|\n",
      "|(17,[0,1,2,3,4,5,...|727000.0| 526635.5362588142|\n",
      "|(17,[0,1,2,3,4,5,...|880000.0| 526635.5362588142|\n",
      "|(17,[0,1,2,3,4,5,...|435000.0| 356904.3339549792|\n",
      "+--------------------+--------+------------------+\n",
      "only showing top 20 rows\n",
      "\n"
     ]
    },
    {
     "name": "stderr",
     "output_type": "stream",
     "text": [
      "                                                                                \r"
     ]
    }
   ],
   "source": [
    "previsao_rf.show()"
   ]
  },
  {
   "cell_type": "code",
   "execution_count": 78,
   "metadata": {},
   "outputs": [],
   "source": [
    "teste_rf = modelo_rf.transform(teste)"
   ]
  },
  {
   "cell_type": "code",
   "execution_count": 79,
   "metadata": {},
   "outputs": [
    {
     "name": "stderr",
     "output_type": "stream",
     "text": [
      "                                                                                \r"
     ]
    }
   ],
   "source": [
    "r2_treino_rf = evaluator.evaluate(previsao_rf,{evaluator.metricName:\"r2\"})\n",
    "rsme_treino_rf = evaluator.evaluate(previsao_rf,{evaluator.metricName:\"rmse\"})\n",
    "r2_teste_rf = evaluator.evaluate(teste_rf,{evaluator.metricName:\"r2\"})\n",
    "rsme_teste_rf = evaluator.evaluate(teste_rf,{evaluator.metricName:\"rmse\"})"
   ]
  },
  {
   "cell_type": "code",
   "execution_count": 80,
   "metadata": {},
   "outputs": [
    {
     "name": "stdout",
     "output_type": "stream",
     "text": [
      "Random Forest\n",
      "R2 treino 0.8017561510914318 RMSE treino 623922.4426224458\n",
      "R2 teste 0.7905295233620376 RMSE teste 626981.4677383784\n"
     ]
    }
   ],
   "source": [
    "print('Random Forest')\n",
    "print(\"R2 treino\",r2_treino_rf,\"RMSE treino\",rsme_treino_rf)\n",
    "print(\"R2 teste\",r2_teste_rf,\"RMSE teste\",rsme_teste_rf)"
   ]
  },
  {
   "cell_type": "code",
   "execution_count": 81,
   "metadata": {},
   "outputs": [
    {
     "name": "stdout",
     "output_type": "stream",
     "text": [
      "Linear Regression\n",
      "R2 0.6585207937774393 RMSE 800525.9696828632\n",
      "Decision Tree\n",
      "R2 0.7738133838892687 RMSE 651518.489920883\n",
      "Random Forest\n",
      "R2 0.7905295233620376 RMSE 626981.4677383784\n"
     ]
    }
   ],
   "source": [
    "print('Linear Regression')\n",
    "print(\"R2\",resumo.r2,\"RMSE\",resumo.rootMeanSquaredError)\n",
    "print('Decision Tree')\n",
    "print(\"R2\",r2_teste_tree,\"RMSE\",rsme_teste_tree)\n",
    "print('Random Forest')\n",
    "print(\"R2\",r2_teste_rf,\"RMSE\",rsme_teste_rf)"
   ]
  },
  {
   "cell_type": "markdown",
   "metadata": {},
   "source": [
    "Cross Validation"
   ]
  },
  {
   "cell_type": "code",
   "execution_count": 82,
   "metadata": {},
   "outputs": [],
   "source": [
    "from pyspark.ml.regression import LinearRegression\n",
    "from pyspark.ml.regression import DecisionTreeRegressor\n",
    "from pyspark.ml.regression import RandomForestRegressor\n",
    "from pyspark.ml.tuning import CrossValidator, ParamGridBuilder\n",
    "from pyspark.ml.evaluation import RegressionEvaluator"
   ]
  },
  {
   "cell_type": "code",
   "execution_count": 83,
   "metadata": {},
   "outputs": [],
   "source": [
    "lr = LinearRegression()\n",
    "dr = DecisionTreeRegressor()\n",
    "rr = RandomForestRegressor()\n",
    "evaluator = RegressionEvaluator()"
   ]
  },
  {
   "cell_type": "code",
   "execution_count": 84,
   "metadata": {},
   "outputs": [],
   "source": [
    "grid_lr = (ParamGridBuilder()\n",
    "    .build()\n",
    ")"
   ]
  },
  {
   "cell_type": "code",
   "execution_count": 85,
   "metadata": {},
   "outputs": [],
   "source": [
    "grid_dr = (ParamGridBuilder()\n",
    "    .addGrid(dr.maxDepth, [2,5,10])\n",
    "    .addGrid(dr.maxBins,[10,32,45])\n",
    "    .build()\n",
    ")"
   ]
  },
  {
   "cell_type": "code",
   "execution_count": 98,
   "metadata": {},
   "outputs": [],
   "source": [
    "grid_rr = (ParamGridBuilder()\n",
    "    .addGrid(rr.numTrees, [10,20,30])\n",
    "    .addGrid(rr.maxDepth, [5,10])\n",
    "    .addGrid(rr.maxBins,[10,32,45])\n",
    "    .build()\n",
    ")"
   ]
  },
  {
   "cell_type": "code",
   "execution_count": 87,
   "metadata": {},
   "outputs": [],
   "source": [
    "cv_lr = (CrossValidator(estimator=lr, estimatorParamMaps=grid_lr, evaluator=evaluator, numFolds=3, seed=101)\n",
    ")"
   ]
  },
  {
   "cell_type": "code",
   "execution_count": 88,
   "metadata": {},
   "outputs": [],
   "source": [
    "cv_dr = (CrossValidator(estimator=dr, estimatorParamMaps=grid_dr, evaluator=evaluator, numFolds=3, seed=101)\n",
    ")"
   ]
  },
  {
   "cell_type": "code",
   "execution_count": 99,
   "metadata": {},
   "outputs": [],
   "source": [
    "cv_rr = (CrossValidator(estimator=rr, estimatorParamMaps=grid_rr, evaluator=evaluator, numFolds=3, seed=101)\n",
    ")"
   ]
  },
  {
   "cell_type": "code",
   "execution_count": 90,
   "metadata": {},
   "outputs": [
    {
     "name": "stderr",
     "output_type": "stream",
     "text": [
      "                                                                                \r"
     ]
    }
   ],
   "source": [
    "modelo_lr = cv_lr.fit(treino)"
   ]
  },
  {
   "cell_type": "code",
   "execution_count": 91,
   "metadata": {},
   "outputs": [
    {
     "name": "stderr",
     "output_type": "stream",
     "text": [
      "                                                                                \r"
     ]
    }
   ],
   "source": [
    "modelo_dr = cv_dr.fit(treino)"
   ]
  },
  {
   "cell_type": "code",
   "execution_count": 100,
   "metadata": {},
   "outputs": [
    {
     "name": "stderr",
     "output_type": "stream",
     "text": [
      "                                                                                \r"
     ]
    }
   ],
   "source": [
    "modelo_rr = cv_rr.fit(treino)"
   ]
  },
  {
   "cell_type": "code",
   "execution_count": 93,
   "metadata": {},
   "outputs": [],
   "source": [
    "previsoes_lr = modelo_lr.transform(teste)"
   ]
  },
  {
   "cell_type": "code",
   "execution_count": 94,
   "metadata": {},
   "outputs": [],
   "source": [
    "previsoes_dr = modelo_dr.transform(teste)"
   ]
  },
  {
   "cell_type": "code",
   "execution_count": 101,
   "metadata": {},
   "outputs": [],
   "source": [
    "previsoes_rr = modelo_rr.transform(teste)"
   ]
  },
  {
   "cell_type": "code",
   "execution_count": 102,
   "metadata": {},
   "outputs": [
    {
     "name": "stderr",
     "output_type": "stream",
     "text": [
      "                                                                                \r"
     ]
    }
   ],
   "source": [
    "r2_lr = evaluator.evaluate(previsoes_lr,{evaluator.metricName:\"r2\"})\n",
    "rsme_lr = evaluator.evaluate(previsoes_lr,{evaluator.metricName:\"rmse\"})\n",
    "r2_dr = evaluator.evaluate(previsoes_dr,{evaluator.metricName:\"r2\"})\n",
    "rsme_dr = evaluator.evaluate(previsoes_dr,{evaluator.metricName:\"rmse\"})\n",
    "r2_rr = evaluator.evaluate(previsoes_rr,{evaluator.metricName:\"r2\"})\n",
    "rsme_rr = evaluator.evaluate(previsoes_rr,{evaluator.metricName:\"rmse\"})"
   ]
  },
  {
   "cell_type": "code",
   "execution_count": 103,
   "metadata": {},
   "outputs": [
    {
     "name": "stdout",
     "output_type": "stream",
     "text": [
      "Linear Regression\n",
      "R2 0.6585207937774393 RMSE 800525.9696828632\n",
      "Linear Regression CV\n",
      "R2 0.6585207937774393 RMSE 800525.9696828632\n",
      "Decision Tree\n",
      "R2 0.7738133838892687 RMSE 651518.489920883\n",
      "Decision Tree CV\n",
      "R2 0.7946390982454046 RMSE 620800.6672872682\n",
      "Random Forest\n",
      "R2 0.7905295233620376 RMSE 626981.4677383784\n",
      "Random Forest CV\n",
      "R2 0.8310426928452984 RMSE 563095.1455243452\n"
     ]
    }
   ],
   "source": [
    "print('Linear Regression')\n",
    "print(\"R2\",resumo.r2,\"RMSE\",resumo.rootMeanSquaredError)\n",
    "print('Linear Regression CV')\n",
    "print(\"R2\",r2_lr,\"RMSE\",rsme_lr)\n",
    "print('Decision Tree')\n",
    "print(\"R2\",r2_teste_tree,\"RMSE\",rsme_teste_tree)\n",
    "print('Decision Tree CV')\n",
    "print(\"R2\",r2_dr,\"RMSE\",rsme_dr)\n",
    "print('Random Forest')\n",
    "print(\"R2\",r2_teste_rf,\"RMSE\",rsme_teste_rf)\n",
    "print('Random Forest CV')\n",
    "print(\"R2\",r2_rr,\"RMSE\",rsme_rr)\n",
    "\n"
   ]
  },
  {
   "cell_type": "markdown",
   "metadata": {},
   "source": [
    "Teste"
   ]
  },
  {
   "cell_type": "code",
   "execution_count": 109,
   "metadata": {},
   "outputs": [
    {
     "data": {
      "text/plain": [
       "['bathrooms',\n",
       " 'bedrooms',\n",
       " 'floors',\n",
       " 'parkingSpaces',\n",
       " 'suites',\n",
       " 'unitFloor',\n",
       " 'unitsOnTheFloor',\n",
       " 'usableAreas',\n",
       " 'condo',\n",
       " 'iptu',\n",
       " 'Apartamento',\n",
       " 'Casa',\n",
       " 'Outros',\n",
       " 'Zona Central',\n",
       " 'Zona Norte',\n",
       " 'Zona Oeste',\n",
       " 'Zona Sul']"
      ]
     },
     "execution_count": 109,
     "metadata": {},
     "output_type": "execute_result"
    }
   ],
   "source": [
    "X"
   ]
  },
  {
   "cell_type": "code",
   "execution_count": 116,
   "metadata": {},
   "outputs": [],
   "source": [
    "novo_imovel =[\n",
    "    {\n",
    "        'bathrooms':2,\n",
    "        'bedrooms':2,\n",
    "        'floors':1,\n",
    "        'parkingSpaces':2,\n",
    "        'suites':0,\n",
    "        'unitFloor':0,\n",
    "        'unitsOnTheFloor':0,\n",
    "        'usableAreas':146,\n",
    "        'condo':0,\n",
    "        'iptu':650,\n",
    "        'Apartamento':0,\n",
    "        'Casa':1,\n",
    "        'Outros':0,\n",
    "        'Zona Central':1,\n",
    "        'Zona Norte':0,\n",
    "        'Zona Oeste':0,\n",
    "        'Zona Sul':0,\n",
    "        'label': 0\n",
    "    }\n",
    "]"
   ]
  },
  {
   "cell_type": "code",
   "execution_count": 117,
   "metadata": {},
   "outputs": [],
   "source": [
    "meu_imovel = spark.createDataFrame(novo_imovel)"
   ]
  },
  {
   "cell_type": "code",
   "execution_count": 118,
   "metadata": {},
   "outputs": [],
   "source": [
    "assembler = VectorAssembler(inputCols=X,outputCol='features')"
   ]
  },
  {
   "cell_type": "code",
   "execution_count": 119,
   "metadata": {},
   "outputs": [],
   "source": [
    "vect_home = assembler.transform(meu_imovel).select('features','label')"
   ]
  },
  {
   "cell_type": "code",
   "execution_count": 120,
   "metadata": {},
   "outputs": [
    {
     "name": "stdout",
     "output_type": "stream",
     "text": [
      "+--------------------+-----+-----------------+\n",
      "|            features|label|       prediction|\n",
      "+--------------------+-----+-----------------+\n",
      "|(17,[0,1,2,3,7,9,...|    0|622076.9830354757|\n",
      "+--------------------+-----+-----------------+\n",
      "\n"
     ]
    }
   ],
   "source": [
    "modelo_rr.transform(vect_home).show()"
   ]
  },
  {
   "cell_type": "code",
   "execution_count": null,
   "metadata": {},
   "outputs": [],
   "source": []
  }
 ],
 "metadata": {
  "kernelspec": {
   "display_name": "Python 3.10.4 64-bit",
   "language": "python",
   "name": "python3"
  },
  "language_info": {
   "codemirror_mode": {
    "name": "ipython",
    "version": 3
   },
   "file_extension": ".py",
   "mimetype": "text/x-python",
   "name": "python",
   "nbconvert_exporter": "python",
   "pygments_lexer": "ipython3",
   "version": "3.10.4"
  },
  "orig_nbformat": 4,
  "vscode": {
   "interpreter": {
    "hash": "916dbcbb3f70747c44a77c7bcd40155683ae19c65e1c03b4aa3499c5328201f1"
   }
  }
 },
 "nbformat": 4,
 "nbformat_minor": 2
}
